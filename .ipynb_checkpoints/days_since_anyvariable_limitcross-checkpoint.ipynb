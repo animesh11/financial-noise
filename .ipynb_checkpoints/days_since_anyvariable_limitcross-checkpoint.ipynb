{
 "metadata": {
  "name": "",
  "signature": "sha256:55f36978a87376414159b0d96e85d63656ccd2f7aa8fc1f4c663fd3ddf23ea0c"
 },
 "nbformat": 3,
 "nbformat_minor": 0,
 "worksheets": [
  {
   "cells": [
    {
     "cell_type": "code",
     "collapsed": false,
     "input": [
      "import Quandl\n",
      "from __future__ import division \n",
      "import pandas as pd\n",
      "from pandas import Series, DataFrame\n",
      "import matplotlib.pyplot as plt\n",
      "from collections import defaultdict\n",
      "from datetime import datetime, timedelta\n",
      "import matplotlib.mlab as ml\n",
      "import numpy as np"
     ],
     "language": "python",
     "metadata": {},
     "outputs": [],
     "prompt_number": 2
    },
    {
     "cell_type": "code",
     "collapsed": false,
     "input": [
      "def get_firstmin(x):\n",
      "    y = x[::-1]\n",
      "    if(len(np.where(y>alpha)[0])>0):\n",
      "       return (np.where(y>alpha)[0][0])\n",
      "    return 0"
     ],
     "language": "python",
     "metadata": {},
     "outputs": [],
     "prompt_number": 124
    },
    {
     "cell_type": "code",
     "collapsed": false,
     "input": [
      "# symbol=\"USA\"\n",
      "# symbol_data=Quandl.get(\"ODA/\"+symbol+\"_PPPPC\",authtoken=\"Rq1mnwz44EKFAZSqZpgz\")\n",
      "# symbol_data['returns']=symbol_data['Value'].pct_change()\n",
      "# print pd.DatetimeIndex(pd.to_datetime(symbol_data.index)).year\n",
      "# print symbol_data.tail(15)\n",
      "\n",
      "# symbol=\"IND\"\n",
      "# symbol_data=Quandl.get(\"ODA/\"+symbol+\"_PPPPC\",authtoken=\"Rq1mnwz44EKFAZSqZpgz\")\n",
      "# print symbol_data.tail(15)"
     ],
     "language": "python",
     "metadata": {},
     "outputs": [],
     "prompt_number": 122
    },
    {
     "cell_type": "code",
     "collapsed": false,
     "input": [
      "# print pd.DatetimeIndex(pd.to_datetime(nifty.index)).year\n",
      "# print pd.DatetimeIndex(pd.to_datetime(symbol_data.index)).year\n"
     ],
     "language": "python",
     "metadata": {},
     "outputs": [],
     "prompt_number": 123
    },
    {
     "cell_type": "code",
     "collapsed": false,
     "input": [
      "sel_entities = entities[entities['Country'].str.contains('(France|UK|Germany|Russia|Greece|Spain)')]\n",
      "symbols = sel_entities['Code']\n",
      "i=0\n",
      "for symbol in symbols:\n",
      "    print symbol\n",
      "    symbol_data=Quandl.get(\"ODA/\"+symbol+\"_PPPPC\",authtoken=\"Rq1mnwz44EKFAZSqZpgz\")\n",
      "    symbol_data = symbol_data.pct_change()[1:]\n",
      "    plt.plot(pd.DatetimeIndex(pd.to_datetime(symbol_data.index)).year,symbol_data,'-o',label=str(sel_entities.iloc[i]['Country']))\n",
      "    i=i+1\n",
      "\n",
      "    \n",
      "# nifty = Quandl.get(\"NSE/CNX_NIFTY\",authtoken=\"Rq1mnwz44EKFAZSqZpgz\")\n",
      "# nifty = nifty.resample('A',how='last')\n",
      "# nifty = nifty.pct_change()[1:]\n",
      "# plt.plot(pd.DatetimeIndex(pd.to_datetime(nifty.index)).year,nifty['Close'],'-o',label='India Nifty')\n",
      "\n",
      "plt.grid()\n",
      "plt.legend()"
     ],
     "language": "python",
     "metadata": {},
     "outputs": [
      {
       "output_type": "stream",
       "stream": "stdout",
       "text": [
        "DEU\n",
        "ESP"
       ]
      },
      {
       "output_type": "stream",
       "stream": "stdout",
       "text": [
        "\n",
        "FRA"
       ]
      },
      {
       "output_type": "stream",
       "stream": "stdout",
       "text": [
        "\n",
        "GBR"
       ]
      },
      {
       "output_type": "stream",
       "stream": "stdout",
       "text": [
        "\n",
        "GRC"
       ]
      },
      {
       "output_type": "stream",
       "stream": "stdout",
       "text": [
        "\n",
        "RUS"
       ]
      },
      {
       "output_type": "stream",
       "stream": "stdout",
       "text": [
        "\n"
       ]
      },
      {
       "metadata": {},
       "output_type": "pyout",
       "prompt_number": 121,
       "text": [
        "<matplotlib.legend.Legend at 0x1127126d0>"
       ]
      }
     ],
     "prompt_number": 121
    },
    {
     "cell_type": "code",
     "collapsed": false,
     "input": [
      "alpha = 0.05\n",
      "underlyings=['YAHOO/INDEX_FCHI','YAHOO/INDEX_GSPC','YAHOO/INDEX_GDAXI']\n",
      "\n",
      "for underlying in underlyings:\n",
      "        uobj = Quandl.get(underlying,authtoken=\"Rq1mnwz44EKFAZSqZpgz\")\n",
      "        uobj['returns']=uobj['Close'].pct_change()\n",
      "        uobj = uobj[1:]\n",
      "        uobj['dayssince']=pd.rolling_apply(uobj['returns'].values,window=100,func=get_firstmin)\n",
      "        data = uobj[uobj['dayssince']==70]\n",
      "        plt.plot(data.index,'-o',label=str(underlying))\n",
      "        print data.head()\n",
      "plt.legend()\n",
      "plt.grid()"
     ],
     "language": "python",
     "metadata": {},
     "outputs": [
      {
       "output_type": "stream",
       "stream": "stdout",
       "text": [
        "               Open     High      Low    Close  Volume  Adjusted Close  \\\n",
        "Date                                                                     \n",
        "1990-12-04  1636.00  1648.00  1633.00  1646.00       0         1646.00   \n",
        "1991-04-29  1782.00  1801.00  1782.00  1797.00       0         1797.00   \n",
        "1998-02-10  3214.00  3249.20  3212.10  3235.80       0         3235.80   \n",
        "1999-04-14  4336.99  4362.88  4309.38  4349.26       0         4349.26   \n",
        "2002-01-04  4702.70  4720.04  4663.40  4682.79       0         4682.79   \n",
        "\n",
        "             returns  dayssince  \n",
        "Date                             \n",
        "1990-12-04  0.000608         70  \n",
        "1991-04-29  0.012965         70  \n",
        "1998-02-10  0.004626         70  \n",
        "1999-04-14 -0.004156         70  \n",
        "2002-01-04  0.000340         70  \n",
        "               Open     High      Low    Close     Volume  Adjusted Close  \\\n",
        "Date                                                                        \n",
        "1970-09-03    80.96    82.63    80.88    82.09   14110000           82.09   \n",
        "1988-02-01   257.05   258.27   254.93   255.04  210660000          255.04   \n",
        "1998-02-09  1012.46  1015.33  1006.28  1010.74  524810000         1010.74   \n",
        "1998-12-16  1162.83  1166.29  1154.69  1161.94  725500000         1161.94   \n",
        "2001-04-16  1183.50  1184.64  1167.38  1179.68  913900000         1179.68   \n",
        "\n",
        "             returns  dayssince  \n",
        "Date                             \n",
        "1970-09-03  0.013958         70  \n",
        "1988-02-01 -0.007897         70  \n",
        "1998-02-09 -0.001699         70  \n",
        "1998-12-16 -0.000765         70  \n",
        "2001-04-16 -0.003228         70  "
       ]
      },
      {
       "output_type": "stream",
       "stream": "stdout",
       "text": [
        "\n",
        "               Open     High      Low    Close  Volume  Adjusted Close  \\\n",
        "Date                                                                     \n",
        "1991-04-29  1635.00  1638.20  1620.30  1620.30       0         1620.30   \n",
        "1999-01-22  5107.74  5107.74  4971.10  5019.28       0         5019.28   \n",
        "1999-06-25  5318.89  5351.07  5287.27  5301.21       0         5301.21   \n",
        "2002-01-07  5327.40  5347.12  5220.99  5232.22       0         5232.22   \n",
        "2003-07-17  3384.86  3384.86  3312.90  3330.68       0         3330.68   \n",
        "\n",
        "             returns  dayssince  \n",
        "Date                             \n",
        "1991-04-29 -0.002155         70  \n",
        "1999-01-22 -0.026643         70  \n",
        "1999-06-25 -0.004953         70  \n",
        "2002-01-07 -0.016265         70  \n",
        "2003-07-17 -0.016814         70  "
       ]
      },
      {
       "output_type": "stream",
       "stream": "stdout",
       "text": [
        "\n"
       ]
      }
     ],
     "prompt_number": 203
    },
    {
     "cell_type": "code",
     "collapsed": false,
     "input": [
      "from itertools import cycle, islice\n",
      "matplotlib.rc('xtick', labelsize=20) \n",
      "matplotlib.rc('ytick', labelsize=20) \n",
      "\n",
      "fig = plt.figure()\n",
      "ax = fig.add_subplot(111)\n",
      "ax.grid()\n",
      "my_colors = list(islice(cycle(['b', 'r', 'g', 'y', 'k']), None, len(sp500)))\n",
      "\n",
      "ax.bar(left=sp500.index[-200:],height=sp500['dayssince'][-200:],color=my_colors)\n",
      "ax.set_title(\"Days since SP500 Index Vol > 8%\")\n",
      "\n",
      "\n",
      "font = {'family' : 'normal',\n",
      "        'weight' : 'bold',\n",
      "        'size'   : 22}\n",
      "\n",
      "matplotlib.rc('font', **font)\n",
      "\n",
      "\n",
      "\n",
      "#ax.yaxis.title(\"Days\")\n",
      "#ax.xaxis.title(\"Dates\")"
     ],
     "language": "python",
     "metadata": {},
     "outputs": [],
     "prompt_number": 10
    },
    {
     "cell_type": "code",
     "collapsed": false,
     "input": [],
     "language": "python",
     "metadata": {},
     "outputs": [],
     "prompt_number": 9
    }
   ],
   "metadata": {}
  }
 ]
}
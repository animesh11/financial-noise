{
 "metadata": {
  "name": "",
  "signature": "sha256:04953505f3556bfecb3677bd0a692344ae531208e2026f01314b8473b2f37e9f"
 },
 "nbformat": 3,
 "nbformat_minor": 0,
 "worksheets": [
  {
   "cells": [
    {
     "cell_type": "code",
     "collapsed": false,
     "input": [
      "import Quandl\n",
      "from __future__ import division \n",
      "import pandas as pd\n",
      "from pandas import Series, DataFrame\n",
      "import matplotlib.pyplot as plt\n",
      "from collections import defaultdict\n",
      "from datetime import datetime, timedelta\n",
      "import matplotlib.mlab as ml\n",
      "import numpy as np"
     ],
     "language": "python",
     "metadata": {},
     "outputs": [
      {
       "output_type": "stream",
       "stream": "stderr",
       "text": [
        "/usr/local/lib/python2.7/site-packages/pandas/io/excel.py:626: UserWarning: Installed openpyxl is not supported at this time. Use >=1.6.1 and <2.0.0.\n",
        "  .format(openpyxl_compat.start_ver, openpyxl_compat.stop_ver))\n"
       ]
      }
     ],
     "prompt_number": 2
    },
    {
     "cell_type": "code",
     "collapsed": false,
     "input": [
      "sp500=Quandl.get(\"YAHOO/INDEX_GSPC\",authtoken=\"Rq1mnwz44EKFAZSqZpgz\")"
     ],
     "language": "python",
     "metadata": {},
     "outputs": [
      {
       "output_type": "stream",
       "stream": "stdout",
       "text": [
        "Token Rq1mnwz44EKFAZSqZpgz activated and saved for later use.\n",
        "Returning Dataframe for "
       ]
      },
      {
       "output_type": "stream",
       "stream": "stdout",
       "text": [
        " YAHOO/INDEX_GSPC\n"
       ]
      }
     ],
     "prompt_number": 3
    },
    {
     "cell_type": "code",
     "collapsed": false,
     "input": [
      "sp500['returns']=sp500['Close'].pct_change()\n",
      "sp500['vols']=pd.rolling_std(sp500['returns'],window=20)"
     ],
     "language": "python",
     "metadata": {},
     "outputs": [],
     "prompt_number": 4
    },
    {
     "cell_type": "code",
     "collapsed": false,
     "input": [
      "sp500.index=pd.to_datetime(sp500.index)\n",
      "sp500['vols']=sp500['vols']*252**0.5"
     ],
     "language": "python",
     "metadata": {},
     "outputs": [],
     "prompt_number": 5
    },
    {
     "cell_type": "code",
     "collapsed": false,
     "input": [
      "sp500[100:].head()"
     ],
     "language": "python",
     "metadata": {},
     "outputs": [
      {
       "html": [
        "<div style=\"max-height:1000px;max-width:1500px;overflow:auto;\">\n",
        "<table border=\"1\" class=\"dataframe\">\n",
        "  <thead>\n",
        "    <tr style=\"text-align: right;\">\n",
        "      <th></th>\n",
        "      <th>Open</th>\n",
        "      <th>High</th>\n",
        "      <th>Low</th>\n",
        "      <th>Close</th>\n",
        "      <th>Volume</th>\n",
        "      <th>Adjusted Close</th>\n",
        "      <th>returns</th>\n",
        "      <th>vols</th>\n",
        "    </tr>\n",
        "    <tr>\n",
        "      <th>Date</th>\n",
        "      <th></th>\n",
        "      <th></th>\n",
        "      <th></th>\n",
        "      <th></th>\n",
        "      <th></th>\n",
        "      <th></th>\n",
        "      <th></th>\n",
        "      <th></th>\n",
        "    </tr>\n",
        "  </thead>\n",
        "  <tbody>\n",
        "    <tr>\n",
        "      <th>1950-05-26</th>\n",
        "      <td> 18.67</td>\n",
        "      <td> 18.67</td>\n",
        "      <td> 18.67</td>\n",
        "      <td> 18.67</td>\n",
        "      <td> 1330000</td>\n",
        "      <td> 18.67</td>\n",
        "      <td>-0.001070</td>\n",
        "      <td> 0.091246</td>\n",
        "    </tr>\n",
        "    <tr>\n",
        "      <th>1950-05-29</th>\n",
        "      <td> 18.72</td>\n",
        "      <td> 18.72</td>\n",
        "      <td> 18.72</td>\n",
        "      <td> 18.72</td>\n",
        "      <td> 1110000</td>\n",
        "      <td> 18.72</td>\n",
        "      <td> 0.002678</td>\n",
        "      <td> 0.078494</td>\n",
        "    </tr>\n",
        "    <tr>\n",
        "      <th>1950-05-31</th>\n",
        "      <td> 18.78</td>\n",
        "      <td> 18.78</td>\n",
        "      <td> 18.78</td>\n",
        "      <td> 18.78</td>\n",
        "      <td> 1530000</td>\n",
        "      <td> 18.78</td>\n",
        "      <td> 0.003205</td>\n",
        "      <td> 0.073638</td>\n",
        "    </tr>\n",
        "    <tr>\n",
        "      <th>1950-06-01</th>\n",
        "      <td> 18.77</td>\n",
        "      <td> 18.77</td>\n",
        "      <td> 18.77</td>\n",
        "      <td> 18.77</td>\n",
        "      <td> 1580000</td>\n",
        "      <td> 18.77</td>\n",
        "      <td>-0.000532</td>\n",
        "      <td> 0.069189</td>\n",
        "    </tr>\n",
        "    <tr>\n",
        "      <th>1950-06-02</th>\n",
        "      <td> 18.79</td>\n",
        "      <td> 18.79</td>\n",
        "      <td> 18.79</td>\n",
        "      <td> 18.79</td>\n",
        "      <td> 1450000</td>\n",
        "      <td> 18.79</td>\n",
        "      <td> 0.001066</td>\n",
        "      <td> 0.059300</td>\n",
        "    </tr>\n",
        "  </tbody>\n",
        "</table>\n",
        "</div>"
       ],
       "metadata": {},
       "output_type": "pyout",
       "prompt_number": 6,
       "text": [
        "             Open   High    Low  Close   Volume  Adjusted Close   returns  \\\n",
        "Date                                                                        \n",
        "1950-05-26  18.67  18.67  18.67  18.67  1330000           18.67 -0.001070   \n",
        "1950-05-29  18.72  18.72  18.72  18.72  1110000           18.72  0.002678   \n",
        "1950-05-31  18.78  18.78  18.78  18.78  1530000           18.78  0.003205   \n",
        "1950-06-01  18.77  18.77  18.77  18.77  1580000           18.77 -0.000532   \n",
        "1950-06-02  18.79  18.79  18.79  18.79  1450000           18.79  0.001066   \n",
        "\n",
        "                vols  \n",
        "Date                  \n",
        "1950-05-26  0.091246  \n",
        "1950-05-29  0.078494  \n",
        "1950-05-31  0.073638  \n",
        "1950-06-01  0.069189  \n",
        "1950-06-02  0.059300  "
       ]
      }
     ],
     "prompt_number": 6
    },
    {
     "cell_type": "code",
     "collapsed": false,
     "input": [
      "int(np.where(sp500['vols']<0.10)[0][0])"
     ],
     "language": "python",
     "metadata": {},
     "outputs": [
      {
       "metadata": {},
       "output_type": "pyout",
       "prompt_number": 7,
       "text": [
        "27"
       ]
      }
     ],
     "prompt_number": 7
    },
    {
     "cell_type": "code",
     "collapsed": false,
     "input": [
      "alpha = 0.08\n",
      "def get_firstmin(x):\n",
      "    y = x[::-1]\n",
      "    if(len(np.where(y>alpha)[0])>0):\n",
      "       return (np.where(y>alpha)[0][0])\n",
      "    return 0\n",
      "sp500['dayssince']=pd.rolling_apply(sp500['vols'].values,window=200,func=get_firstmin)\n",
      "sp500.head()"
     ],
     "language": "python",
     "metadata": {},
     "outputs": [
      {
       "html": [
        "<div style=\"max-height:1000px;max-width:1500px;overflow:auto;\">\n",
        "<table border=\"1\" class=\"dataframe\">\n",
        "  <thead>\n",
        "    <tr style=\"text-align: right;\">\n",
        "      <th></th>\n",
        "      <th>Open</th>\n",
        "      <th>High</th>\n",
        "      <th>Low</th>\n",
        "      <th>Close</th>\n",
        "      <th>Volume</th>\n",
        "      <th>Adjusted Close</th>\n",
        "      <th>returns</th>\n",
        "      <th>vols</th>\n",
        "      <th>dayssince</th>\n",
        "    </tr>\n",
        "    <tr>\n",
        "      <th>Date</th>\n",
        "      <th></th>\n",
        "      <th></th>\n",
        "      <th></th>\n",
        "      <th></th>\n",
        "      <th></th>\n",
        "      <th></th>\n",
        "      <th></th>\n",
        "      <th></th>\n",
        "      <th></th>\n",
        "    </tr>\n",
        "  </thead>\n",
        "  <tbody>\n",
        "    <tr>\n",
        "      <th>1950-01-03</th>\n",
        "      <td> 16.66</td>\n",
        "      <td> 16.66</td>\n",
        "      <td> 16.66</td>\n",
        "      <td> 16.66</td>\n",
        "      <td> 1260000</td>\n",
        "      <td> 16.66</td>\n",
        "      <td>      NaN</td>\n",
        "      <td>NaN</td>\n",
        "      <td>NaN</td>\n",
        "    </tr>\n",
        "    <tr>\n",
        "      <th>1950-01-04</th>\n",
        "      <td> 16.85</td>\n",
        "      <td> 16.85</td>\n",
        "      <td> 16.85</td>\n",
        "      <td> 16.85</td>\n",
        "      <td> 1890000</td>\n",
        "      <td> 16.85</td>\n",
        "      <td> 0.011405</td>\n",
        "      <td>NaN</td>\n",
        "      <td>NaN</td>\n",
        "    </tr>\n",
        "    <tr>\n",
        "      <th>1950-01-05</th>\n",
        "      <td> 16.93</td>\n",
        "      <td> 16.93</td>\n",
        "      <td> 16.93</td>\n",
        "      <td> 16.93</td>\n",
        "      <td> 2550000</td>\n",
        "      <td> 16.93</td>\n",
        "      <td> 0.004748</td>\n",
        "      <td>NaN</td>\n",
        "      <td>NaN</td>\n",
        "    </tr>\n",
        "    <tr>\n",
        "      <th>1950-01-06</th>\n",
        "      <td> 16.98</td>\n",
        "      <td> 16.98</td>\n",
        "      <td> 16.98</td>\n",
        "      <td> 16.98</td>\n",
        "      <td> 2010000</td>\n",
        "      <td> 16.98</td>\n",
        "      <td> 0.002953</td>\n",
        "      <td>NaN</td>\n",
        "      <td>NaN</td>\n",
        "    </tr>\n",
        "    <tr>\n",
        "      <th>1950-01-09</th>\n",
        "      <td> 17.08</td>\n",
        "      <td> 17.08</td>\n",
        "      <td> 17.08</td>\n",
        "      <td> 17.08</td>\n",
        "      <td> 2520000</td>\n",
        "      <td> 17.08</td>\n",
        "      <td> 0.005889</td>\n",
        "      <td>NaN</td>\n",
        "      <td>NaN</td>\n",
        "    </tr>\n",
        "  </tbody>\n",
        "</table>\n",
        "</div>"
       ],
       "metadata": {},
       "output_type": "pyout",
       "prompt_number": 8,
       "text": [
        "             Open   High    Low  Close   Volume  Adjusted Close   returns  \\\n",
        "Date                                                                        \n",
        "1950-01-03  16.66  16.66  16.66  16.66  1260000           16.66       NaN   \n",
        "1950-01-04  16.85  16.85  16.85  16.85  1890000           16.85  0.011405   \n",
        "1950-01-05  16.93  16.93  16.93  16.93  2550000           16.93  0.004748   \n",
        "1950-01-06  16.98  16.98  16.98  16.98  2010000           16.98  0.002953   \n",
        "1950-01-09  17.08  17.08  17.08  17.08  2520000           17.08  0.005889   \n",
        "\n",
        "            vols  dayssince  \n",
        "Date                         \n",
        "1950-01-03   NaN        NaN  \n",
        "1950-01-04   NaN        NaN  \n",
        "1950-01-05   NaN        NaN  \n",
        "1950-01-06   NaN        NaN  \n",
        "1950-01-09   NaN        NaN  "
       ]
      }
     ],
     "prompt_number": 8
    },
    {
     "cell_type": "code",
     "collapsed": false,
     "input": [
      "sp500['dayssince'][-200:].plot(style='-o')"
     ],
     "language": "python",
     "metadata": {},
     "outputs": [
      {
       "metadata": {},
       "output_type": "pyout",
       "prompt_number": 9,
       "text": [
        "<matplotlib.axes.AxesSubplot at 0x10eb0fc10>"
       ]
      }
     ],
     "prompt_number": 9
    },
    {
     "cell_type": "code",
     "collapsed": false,
     "input": [
      "from itertools import cycle, islice\n",
      "matplotlib.rc('xtick', labelsize=20) \n",
      "matplotlib.rc('ytick', labelsize=20) \n",
      "\n",
      "fig = plt.figure()\n",
      "ax = fig.add_subplot(111)\n",
      "ax.grid()\n",
      "my_colors = list(islice(cycle(['b', 'r', 'g', 'y', 'k']), None, len(sp500)))\n",
      "\n",
      "ax.bar(left=sp500.index[-200:],height=sp500['dayssince'][-200:],color=my_colors)\n",
      "ax.set_title(\"Days since SP500 Index Vol > 8%\")\n",
      "\n",
      "\n",
      "font = {'family' : 'normal',\n",
      "        'weight' : 'bold',\n",
      "        'size'   : 22}\n",
      "\n",
      "matplotlib.rc('font', **font)\n",
      "\n",
      "\n",
      "\n",
      "#ax.yaxis.title(\"Days\")\n",
      "#ax.xaxis.title(\"Dates\")"
     ],
     "language": "python",
     "metadata": {},
     "outputs": [],
     "prompt_number": 10
    },
    {
     "cell_type": "code",
     "collapsed": false,
     "input": [],
     "language": "python",
     "metadata": {},
     "outputs": [],
     "prompt_number": 9
    }
   ],
   "metadata": {}
  }
 ]
}
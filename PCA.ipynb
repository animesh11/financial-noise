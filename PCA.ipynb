{
 "metadata": {
  "name": "",
  "signature": "sha256:b51e78d65a74d9f28e54e4be914f7874281ba654023a7248b6d64988b56ae071"
 },
 "nbformat": 3,
 "nbformat_minor": 0,
 "worksheets": [
  {
   "cells": [
    {
     "cell_type": "code",
     "collapsed": false,
     "input": [
      "import Quandl\n",
      "from __future__ import division \n",
      "import pandas as pd\n",
      "from pandas import Series, DataFrame\n",
      "import matplotlib.pyplot as plt\n",
      "from collections import defaultdict\n",
      "from datetime import datetime, timedelta\n",
      "import matplotlib.mlab as ml\n"
     ],
     "language": "python",
     "metadata": {},
     "outputs": [],
     "prompt_number": 4
    },
    {
     "cell_type": "code",
     "collapsed": false,
     "input": [
      "icici=Quandl.get(\"NSE/ICICIBANK\",authtoken=\"Rq1mnwz44EKFAZSqZpgz\")"
     ],
     "language": "python",
     "metadata": {},
     "outputs": []
    },
    {
     "cell_type": "code",
     "collapsed": false,
     "input": [
      "usdeur=Quandl.get(\"QUANDL/USDINR\",authtoken=\"Rq1mnwz44EKFAZSqZpgz\")"
     ],
     "language": "python",
     "metadata": {},
     "outputs": [
      {
       "output_type": "stream",
       "stream": "stdout",
       "text": [
        "Token Rq1mnwz44EKFAZSqZpgz activated and saved for later use.\n",
        "Returning Dataframe for "
       ]
      },
      {
       "output_type": "stream",
       "stream": "stdout",
       "text": [
        " QUANDL/USDINR\n"
       ]
      }
     ],
     "prompt_number": 9
    },
    {
     "cell_type": "code",
     "collapsed": false,
     "input": [
      "usdeur.head()"
     ],
     "language": "python",
     "metadata": {},
     "outputs": [
      {
       "html": [
        "<div style=\"max-height:1000px;max-width:1500px;overflow:auto;\">\n",
        "<table border=\"1\" class=\"dataframe\">\n",
        "  <thead>\n",
        "    <tr style=\"text-align: right;\">\n",
        "      <th></th>\n",
        "      <th>Rate</th>\n",
        "      <th>High (est)</th>\n",
        "      <th>Low (est)</th>\n",
        "    </tr>\n",
        "    <tr>\n",
        "      <th>Date</th>\n",
        "      <th></th>\n",
        "      <th></th>\n",
        "      <th></th>\n",
        "    </tr>\n",
        "  </thead>\n",
        "  <tbody>\n",
        "    <tr>\n",
        "      <th>1994-10-18</th>\n",
        "      <td> 31.3695</td>\n",
        "      <td>  0.000</td>\n",
        "      <td>  0.000</td>\n",
        "    </tr>\n",
        "    <tr>\n",
        "      <th>1994-10-19</th>\n",
        "      <td> 31.3692</td>\n",
        "      <td> 31.741</td>\n",
        "      <td> 31.001</td>\n",
        "    </tr>\n",
        "    <tr>\n",
        "      <th>1994-10-20</th>\n",
        "      <td> 31.3695</td>\n",
        "      <td>  0.000</td>\n",
        "      <td>  0.000</td>\n",
        "    </tr>\n",
        "    <tr>\n",
        "      <th>1994-10-21</th>\n",
        "      <td> 31.3708</td>\n",
        "      <td> 31.718</td>\n",
        "      <td> 31.028</td>\n",
        "    </tr>\n",
        "    <tr>\n",
        "      <th>1994-10-24</th>\n",
        "      <td> 31.3705</td>\n",
        "      <td>  0.000</td>\n",
        "      <td>  0.000</td>\n",
        "    </tr>\n",
        "  </tbody>\n",
        "</table>\n",
        "</div>"
       ],
       "metadata": {},
       "output_type": "pyout",
       "prompt_number": 10,
       "text": [
        "               Rate  High (est)  Low (est)\n",
        "Date                                      \n",
        "1994-10-18  31.3695       0.000      0.000\n",
        "1994-10-19  31.3692      31.741     31.001\n",
        "1994-10-20  31.3695       0.000      0.000\n",
        "1994-10-21  31.3708      31.718     31.028\n",
        "1994-10-24  31.3705       0.000      0.000"
       ]
      }
     ],
     "prompt_number": 10
    },
    {
     "cell_type": "code",
     "collapsed": false,
     "input": [
      "usdeurreturns =  usdeur['Rate'].pct_change()[1:]\n",
      "goldreturns =  gold['Close'].pct_change()[1:]\n",
      "pieces = [usdeur['Rate'],gold['Close']]\n",
      "finalset=pd.concat(pieces,axis=1,join='inner')"
     ],
     "language": "python",
     "metadata": {},
     "outputs": [],
     "prompt_number": 12
    },
    {
     "cell_type": "code",
     "collapsed": false,
     "input": [
      "usdeurvols=pd.rolling_var(finalset['Rate'],20)\n",
      "goldvols = pd.rolling_var(finalset['Close'],20)"
     ],
     "language": "python",
     "metadata": {},
     "outputs": [],
     "prompt_number": 13
    },
    {
     "cell_type": "code",
     "collapsed": false,
     "input": [
      "fig = plt.figure()\n",
      "ax1 = fig.add_subplot(211)\n",
      "ax2=fig.add_subplot(212)\n",
      "ax1.plot(pd.rolling_corr(usdeurvols,goldvols,15)[4500:].index,pd.rolling_corr(usdeurvols,goldvols,15)[4500:],'-o')\n",
      "ax2.plot(pd.rolling_corr(usdeurvols,goldvols,25)[4500:].index,pd.rolling_corr(usdeurvols,goldvols,25)[4500:],'-o')\n",
      "ax1.set_title(\"15 Day USDINR/Gold Correlations\")\n",
      "ax2.set_title(\"25 Day USDINR/Gold Correlations\")\n",
      "ax1.grid()\n",
      "ax2.grid()\n",
      "plt.legend()"
     ],
     "language": "python",
     "metadata": {},
     "outputs": [
      {
       "output_type": "stream",
       "stream": "stderr",
       "text": [
        "/usr/local/lib/python2.7/site-packages/matplotlib/axes.py:4747: UserWarning: No labeled objects found. Use label='...' kwarg on individual plots.\n",
        "  warnings.warn(\"No labeled objects found. \"\n"
       ]
      }
     ],
     "prompt_number": 14
    },
    {
     "cell_type": "code",
     "collapsed": false,
     "input": [
      "fig = plt.figure()\n",
      "ax1 = fig.add_subplot(211)\n",
      "ax2=fig.add_subplot(212)\n",
      "ax1.plot(pd.rolling_corr(usdeurvols,goldvols,30)[30:],'-o')\n",
      "plt.grid()"
     ],
     "language": "python",
     "metadata": {},
     "outputs": [],
     "prompt_number": 17
    },
    {
     "cell_type": "code",
     "collapsed": false,
     "input": [
      "corrcoef(oldcopper['Close'],newcopper['Close'])"
     ],
     "language": "python",
     "metadata": {},
     "outputs": [
      {
       "ename": "NameError",
       "evalue": "name 'oldcopper' is not defined",
       "output_type": "pyerr",
       "traceback": [
        "\u001b[0;31m---------------------------------------------------------------------------\u001b[0m\n\u001b[0;31mNameError\u001b[0m                                 Traceback (most recent call last)",
        "\u001b[0;32m<ipython-input-15-015a03a3b07a>\u001b[0m in \u001b[0;36m<module>\u001b[0;34m()\u001b[0m\n\u001b[0;32m----> 1\u001b[0;31m \u001b[0mcorrcoef\u001b[0m\u001b[0;34m(\u001b[0m\u001b[0moldcopper\u001b[0m\u001b[0;34m[\u001b[0m\u001b[0;34m'Close'\u001b[0m\u001b[0;34m]\u001b[0m\u001b[0;34m,\u001b[0m\u001b[0mnewcopper\u001b[0m\u001b[0;34m[\u001b[0m\u001b[0;34m'Close'\u001b[0m\u001b[0;34m]\u001b[0m\u001b[0;34m)\u001b[0m\u001b[0;34m\u001b[0m\u001b[0m\n\u001b[0m",
        "\u001b[0;31mNameError\u001b[0m: name 'oldcopper' is not defined"
       ]
      }
     ],
     "prompt_number": 15
    },
    {
     "cell_type": "code",
     "collapsed": false,
     "input": [],
     "language": "python",
     "metadata": {},
     "outputs": []
    }
   ],
   "metadata": {}
  }
 ]
}
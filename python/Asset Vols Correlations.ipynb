{
 "metadata": {
  "name": "",
  "signature": "sha256:e9eefc736f543a0e0eaa831cb4b366425231c5fa11a93306819ec63a4bb6cb58"
 },
 "nbformat": 3,
 "nbformat_minor": 0,
 "worksheets": [
  {
   "cells": [
    {
     "cell_type": "code",
     "collapsed": false,
     "input": [
      "import Quandl\n",
      "from __future__ import division \n",
      "import pandas as pd\n",
      "from pandas import Series, DataFrame\n",
      "import matplotlib.pyplot as plt\n",
      "from collections import defaultdict\n",
      "from datetime import datetime, timedelta\n",
      "import matplotlib.mlab as ml\n"
     ],
     "language": "python",
     "metadata": {},
     "outputs": [],
     "prompt_number": 4
    },
    {
     "cell_type": "code",
     "collapsed": false,
     "input": [
      "icici=Quandl.get(\"NSE/ICICIBANK\",authtoken=\"Rq1mnwz44EKFAZSqZpgz\")"
     ],
     "language": "python",
     "metadata": {},
     "outputs": [
      {
       "output_type": "stream",
       "stream": "stdout",
       "text": [
        "Token Rq1mnwz44EKFAZSqZpgz activated and saved for later use.\n",
        "Returning Dataframe for "
       ]
      },
      {
       "output_type": "stream",
       "stream": "stdout",
       "text": [
        " NSE/ICICIBANK\n"
       ]
      }
     ],
     "prompt_number": 12
    },
    {
     "cell_type": "code",
     "collapsed": false,
     "input": [
      "axis=Quandl.get(\"NSE/AXISBANK\",authtoken=\"Rq1mnwz44EKFAZSqZpgz\")"
     ],
     "language": "python",
     "metadata": {},
     "outputs": [
      {
       "output_type": "stream",
       "stream": "stdout",
       "text": [
        "Token Rq1mnwz44EKFAZSqZpgz activated and saved for later use.\n",
        "Returning Dataframe for "
       ]
      },
      {
       "output_type": "stream",
       "stream": "stdout",
       "text": [
        " NSE/AXISBANK\n"
       ]
      }
     ],
     "prompt_number": 13
    },
    {
     "cell_type": "code",
     "collapsed": false,
     "input": [
      "icici.head()"
     ],
     "language": "python",
     "metadata": {},
     "outputs": [
      {
       "html": [
        "<div style=\"max-height:1000px;max-width:1500px;overflow:auto;\">\n",
        "<table border=\"1\" class=\"dataframe\">\n",
        "  <thead>\n",
        "    <tr style=\"text-align: right;\">\n",
        "      <th></th>\n",
        "      <th>Open</th>\n",
        "      <th>High</th>\n",
        "      <th>Low</th>\n",
        "      <th>Last</th>\n",
        "      <th>Close</th>\n",
        "      <th>Total Trade Quantity</th>\n",
        "      <th>Turnover (Lacs)</th>\n",
        "    </tr>\n",
        "    <tr>\n",
        "      <th>Date</th>\n",
        "      <th></th>\n",
        "      <th></th>\n",
        "      <th></th>\n",
        "      <th></th>\n",
        "      <th></th>\n",
        "      <th></th>\n",
        "      <th></th>\n",
        "    </tr>\n",
        "  </thead>\n",
        "  <tbody>\n",
        "    <tr>\n",
        "      <th>1998-03-20</th>\n",
        "      <td> 45.75</td>\n",
        "      <td> 46.4</td>\n",
        "      <td> 45.55</td>\n",
        "      <td>   NaN</td>\n",
        "      <td>   NaN</td>\n",
        "      <td>    NaN</td>\n",
        "      <td>   NaN</td>\n",
        "    </tr>\n",
        "    <tr>\n",
        "      <th>1998-03-23</th>\n",
        "      <td> 46.00</td>\n",
        "      <td> 46.3</td>\n",
        "      <td> 45.80</td>\n",
        "      <td> 45.85</td>\n",
        "      <td> 45.85</td>\n",
        "      <td>   9600</td>\n",
        "      <td>  4.41</td>\n",
        "    </tr>\n",
        "    <tr>\n",
        "      <th>1998-03-24</th>\n",
        "      <td> 46.50</td>\n",
        "      <td> 46.7</td>\n",
        "      <td> 45.50</td>\n",
        "      <td> 45.75</td>\n",
        "      <td> 45.65</td>\n",
        "      <td> 102100</td>\n",
        "      <td> 46.90</td>\n",
        "    </tr>\n",
        "    <tr>\n",
        "      <th>1998-03-25</th>\n",
        "      <td> 47.00</td>\n",
        "      <td> 47.0</td>\n",
        "      <td> 47.00</td>\n",
        "      <td> 47.00</td>\n",
        "      <td> 47.00</td>\n",
        "      <td>     50</td>\n",
        "      <td>  0.02</td>\n",
        "    </tr>\n",
        "    <tr>\n",
        "      <th>1998-03-26</th>\n",
        "      <td> 50.00</td>\n",
        "      <td> 50.0</td>\n",
        "      <td> 46.80</td>\n",
        "      <td> 47.80</td>\n",
        "      <td> 47.15</td>\n",
        "      <td> 128300</td>\n",
        "      <td> 61.75</td>\n",
        "    </tr>\n",
        "  </tbody>\n",
        "</table>\n",
        "</div>"
       ],
       "metadata": {},
       "output_type": "pyout",
       "prompt_number": 14,
       "text": [
        "             Open  High    Low   Last  Close  Total Trade Quantity  \\\n",
        "Date                                                                 \n",
        "1998-03-20  45.75  46.4  45.55    NaN    NaN                   NaN   \n",
        "1998-03-23  46.00  46.3  45.80  45.85  45.85                  9600   \n",
        "1998-03-24  46.50  46.7  45.50  45.75  45.65                102100   \n",
        "1998-03-25  47.00  47.0  47.00  47.00  47.00                    50   \n",
        "1998-03-26  50.00  50.0  46.80  47.80  47.15                128300   \n",
        "\n",
        "            Turnover (Lacs)  \n",
        "Date                         \n",
        "1998-03-20              NaN  \n",
        "1998-03-23             4.41  \n",
        "1998-03-24            46.90  \n",
        "1998-03-25             0.02  \n",
        "1998-03-26            61.75  "
       ]
      }
     ],
     "prompt_number": 14
    },
    {
     "cell_type": "code",
     "collapsed": false,
     "input": [
      "axis.head()"
     ],
     "language": "python",
     "metadata": {},
     "outputs": [
      {
       "html": [
        "<div style=\"max-height:1000px;max-width:1500px;overflow:auto;\">\n",
        "<table border=\"1\" class=\"dataframe\">\n",
        "  <thead>\n",
        "    <tr style=\"text-align: right;\">\n",
        "      <th></th>\n",
        "      <th>Open</th>\n",
        "      <th>High</th>\n",
        "      <th>Low</th>\n",
        "      <th>Last</th>\n",
        "      <th>Close</th>\n",
        "      <th>Total Trade Quantity</th>\n",
        "      <th>Turnover (Lacs)</th>\n",
        "    </tr>\n",
        "    <tr>\n",
        "      <th>Date</th>\n",
        "      <th></th>\n",
        "      <th></th>\n",
        "      <th></th>\n",
        "      <th></th>\n",
        "      <th></th>\n",
        "      <th></th>\n",
        "      <th></th>\n",
        "    </tr>\n",
        "  </thead>\n",
        "  <tbody>\n",
        "    <tr>\n",
        "      <th>2007-08-16</th>\n",
        "      <td> 588.00</td>\n",
        "      <td> 594.9</td>\n",
        "      <td> 551.00</td>\n",
        "      <td> 558.0</td>\n",
        "      <td> 557.85</td>\n",
        "      <td>  860905</td>\n",
        "      <td> 4860.75</td>\n",
        "    </tr>\n",
        "    <tr>\n",
        "      <th>2007-08-17</th>\n",
        "      <td> 546.05</td>\n",
        "      <td> 581.0</td>\n",
        "      <td> 534.00</td>\n",
        "      <td> 577.0</td>\n",
        "      <td> 575.15</td>\n",
        "      <td> 1338154</td>\n",
        "      <td> 7494.97</td>\n",
        "    </tr>\n",
        "    <tr>\n",
        "      <th>2007-08-20</th>\n",
        "      <td> 585.00</td>\n",
        "      <td> 609.0</td>\n",
        "      <td> 577.00</td>\n",
        "      <td> 603.5</td>\n",
        "      <td> 604.65</td>\n",
        "      <td>  878025</td>\n",
        "      <td> 5210.58</td>\n",
        "    </tr>\n",
        "    <tr>\n",
        "      <th>2007-08-21</th>\n",
        "      <td> 613.90</td>\n",
        "      <td> 613.9</td>\n",
        "      <td> 587.00</td>\n",
        "      <td> 587.0</td>\n",
        "      <td> 590.90</td>\n",
        "      <td>  441898</td>\n",
        "      <td> 2647.03</td>\n",
        "    </tr>\n",
        "    <tr>\n",
        "      <th>2007-08-22</th>\n",
        "      <td> 592.00</td>\n",
        "      <td> 599.7</td>\n",
        "      <td> 561.15</td>\n",
        "      <td> 584.0</td>\n",
        "      <td> 582.55</td>\n",
        "      <td>  551499</td>\n",
        "      <td> 3189.04</td>\n",
        "    </tr>\n",
        "  </tbody>\n",
        "</table>\n",
        "</div>"
       ],
       "metadata": {},
       "output_type": "pyout",
       "prompt_number": 15,
       "text": [
        "              Open   High     Low   Last   Close  Total Trade Quantity  \\\n",
        "Date                                                                     \n",
        "2007-08-16  588.00  594.9  551.00  558.0  557.85                860905   \n",
        "2007-08-17  546.05  581.0  534.00  577.0  575.15               1338154   \n",
        "2007-08-20  585.00  609.0  577.00  603.5  604.65                878025   \n",
        "2007-08-21  613.90  613.9  587.00  587.0  590.90                441898   \n",
        "2007-08-22  592.00  599.7  561.15  584.0  582.55                551499   \n",
        "\n",
        "            Turnover (Lacs)  \n",
        "Date                         \n",
        "2007-08-16          4860.75  \n",
        "2007-08-17          7494.97  \n",
        "2007-08-20          5210.58  \n",
        "2007-08-21          2647.03  \n",
        "2007-08-22          3189.04  "
       ]
      }
     ],
     "prompt_number": 15
    },
    {
     "cell_type": "code",
     "collapsed": false,
     "input": [
      "usdeurvols=pd.rolling_var(finalset['Rate'],20)\n",
      "goldvols = pd.rolling_var(finalset['Close'],20)"
     ],
     "language": "python",
     "metadata": {},
     "outputs": [],
     "prompt_number": 13
    },
    {
     "cell_type": "code",
     "collapsed": false,
     "input": [
      "fig = plt.figure()\n",
      "ax1 = fig.add_subplot(211)\n",
      "ax2=fig.add_subplot(212)\n",
      "ax1.plot(pd.rolling_corr(usdeurvols,goldvols,15)[4500:].index,pd.rolling_corr(usdeurvols,goldvols,15)[4500:],'-o')\n",
      "ax2.plot(pd.rolling_corr(usdeurvols,goldvols,25)[4500:].index,pd.rolling_corr(usdeurvols,goldvols,25)[4500:],'-o')\n",
      "ax1.set_title(\"15 Day USDINR/Gold Correlations\")\n",
      "ax2.set_title(\"25 Day USDINR/Gold Correlations\")\n",
      "ax1.grid()\n",
      "ax2.grid()\n",
      "plt.legend()"
     ],
     "language": "python",
     "metadata": {},
     "outputs": [
      {
       "output_type": "stream",
       "stream": "stderr",
       "text": [
        "/usr/local/lib/python2.7/site-packages/matplotlib/axes.py:4747: UserWarning: No labeled objects found. Use label='...' kwarg on individual plots.\n",
        "  warnings.warn(\"No labeled objects found. \"\n"
       ]
      }
     ],
     "prompt_number": 14
    },
    {
     "cell_type": "code",
     "collapsed": false,
     "input": [
      "fig = plt.figure()\n",
      "ax1 = fig.add_subplot(211)\n",
      "ax2=fig.add_subplot(212)\n",
      "ax1.plot(pd.rolling_corr(usdeurvols,goldvols,30)[30:],'-o')\n",
      "plt.grid()"
     ],
     "language": "python",
     "metadata": {},
     "outputs": [],
     "prompt_number": 17
    },
    {
     "cell_type": "code",
     "collapsed": false,
     "input": [
      "corrcoef(oldcopper['Close'],newcopper['Close'])"
     ],
     "language": "python",
     "metadata": {},
     "outputs": [
      {
       "ename": "NameError",
       "evalue": "name 'oldcopper' is not defined",
       "output_type": "pyerr",
       "traceback": [
        "\u001b[0;31m---------------------------------------------------------------------------\u001b[0m\n\u001b[0;31mNameError\u001b[0m                                 Traceback (most recent call last)",
        "\u001b[0;32m<ipython-input-15-015a03a3b07a>\u001b[0m in \u001b[0;36m<module>\u001b[0;34m()\u001b[0m\n\u001b[0;32m----> 1\u001b[0;31m \u001b[0mcorrcoef\u001b[0m\u001b[0;34m(\u001b[0m\u001b[0moldcopper\u001b[0m\u001b[0;34m[\u001b[0m\u001b[0;34m'Close'\u001b[0m\u001b[0;34m]\u001b[0m\u001b[0;34m,\u001b[0m\u001b[0mnewcopper\u001b[0m\u001b[0;34m[\u001b[0m\u001b[0;34m'Close'\u001b[0m\u001b[0;34m]\u001b[0m\u001b[0;34m)\u001b[0m\u001b[0;34m\u001b[0m\u001b[0m\n\u001b[0m",
        "\u001b[0;31mNameError\u001b[0m: name 'oldcopper' is not defined"
       ]
      }
     ],
     "prompt_number": 15
    },
    {
     "cell_type": "code",
     "collapsed": false,
     "input": [],
     "language": "python",
     "metadata": {},
     "outputs": []
    }
   ],
   "metadata": {}
  }
 ]
}
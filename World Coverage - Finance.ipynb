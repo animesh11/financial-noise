{
 "metadata": {
  "name": "",
  "signature": "sha256:85cf05097278d0ac5eccc62f10bd3f0fe21ce48e4ad855ed97d046f1b97acf4f"
 },
 "nbformat": 3,
 "nbformat_minor": 0,
 "worksheets": [
  {
   "cells": [
    {
     "cell_type": "code",
     "collapsed": false,
     "input": [
      "import Quandl\n",
      "from __future__ import division\n",
      "import pandas as pd\n",
      "from pandas import Series, DataFrame\n",
      "import matplotlib.pyplot as plt\n",
      "from collections import defaultdict\n",
      "from datetime import datetime, timedelta\n",
      "import matplotlib.mlab as ml\n",
      "import scipy.stats"
     ],
     "language": "python",
     "metadata": {},
     "outputs": [],
     "prompt_number": 92
    },
    {
     "cell_type": "code",
     "collapsed": false,
     "input": [
      "listlinks={'nasdaq':'https://s3.amazonaws.com/quandl-static-content/Ticker+CSV%27s/Stock+Exchanges/NASDAQ.csv',\n",
      "            'north_american_stocks':'https://s3.amazonaws.com/quandl-static-content/Ticker+CSV%27s/Stock+Exchanges/Indicies.csv',\n",
      "            'nyse_stocks':'https://s3.amazonaws.com/quandl-static-content/Ticker+CSV%27s/Stock+Exchanges/NYSE.csv',\n",
      "            'lse':'https://s3.amazonaws.com/quandl-static-content/Ticker+CSV%27s/Yahoo/L.csv',\n",
      "            'nse':'https://s3.amazonaws.com/quandl-static-content/Ticker+CSV%27s/Yahoo/NS.csv'\n",
      "            }"
     ],
     "language": "python",
     "metadata": {},
     "outputs": [],
     "prompt_number": 93
    },
    {
     "cell_type": "code",
     "collapsed": false,
     "input": [
      "def relative_strength(prices):\n",
      "    \"\"\"\n",
      "    compute the n period relative strength indicator\n",
      "    http://stockcharts.com/school/doku.php?id=chart_school:glossary_r#relativestrengthindex\n",
      "    http://www.investopedia.com/terms/r/rsi.asp\n",
      "    \"\"\"\n",
      "    n=14\n",
      "    deltas = np.diff(prices)\n",
      "    seed = deltas[:n+1]\n",
      "    up = seed[seed>=0].sum()/n\n",
      "    down = -seed[seed<0].sum()/n\n",
      "    rs = up/down\n",
      "    rsi = np.zeros_like(prices)\n",
      "    rsi[:n] = 100. - 100./(1.+rs)\n",
      "\n",
      "    for i in range(n, len(prices)):\n",
      "        delta = deltas[i-1] # cause the diff is 1 shorter\n",
      "\n",
      "        if delta>0:\n",
      "            upval = delta\n",
      "            downval = 0.\n",
      "        else:\n",
      "            upval = 0.\n",
      "            downval = -delta\n",
      "\n",
      "        up = (up*(n-1) + upval)/n\n",
      "        down = (down*(n-1) + downval)/n\n",
      "\n",
      "        rs = up/down\n",
      "        rsi[i] = 100. - 100./(1.+rs)\n",
      "    return rsi\n",
      "\n",
      "def get_rank(a):\n",
      "    ranks = scipy.stats.rankdata(a)[-1]    \n",
      "    return ranks"
     ],
     "language": "python",
     "metadata": {},
     "outputs": [],
     "prompt_number": 160
    },
    {
     "cell_type": "code",
     "collapsed": false,
     "input": [
      "# csvlist = pd.read_csv(listlinks['nse'])\n",
      "# datasets = pd.read_csv(\"nse.csv\")\n",
      "# datasets = datasets.set_index(['dates'])\n",
      "# datasets.head()\n",
      "# datasets.iloc[:,1:10].plot()"
     ],
     "language": "python",
     "metadata": {},
     "outputs": [],
     "prompt_number": 158
    },
    {
     "cell_type": "code",
     "collapsed": false,
     "input": [
      "# i=0\n",
      "# j=0\n",
      "# data_ranks=pd.DataFrame(index=data.index)\n",
      "\n",
      "# for i in np.arange(len(datasets.columns)):\n",
      "#     underlying = data.columns[i]\n",
      "#     prices = data.iloc[:,j]\n",
      "#     myranks = pd.rolling_apply(prices.values,window=14,func=relative_strength)\n",
      "#     colname = 'R_'+str(underlying)\n",
      "#     data_ranks[colname] = myranks\n",
      "#     j=j+1"
     ],
     "language": "python",
     "metadata": {},
     "outputs": [],
     "prompt_number": 162
    },
    {
     "cell_type": "code",
     "collapsed": false,
     "input": [
      "datasets = pd.DataFrame(columns=csvlist.iloc[:,1],index=pd.date_range('1/1/2000', '01/10/2014', freq='D'))\n",
      "i=0\n",
      "for underlying in csvlist.iloc[:,1]:\n",
      "    i=i+1\n",
      "    print i\n",
      "    print underlying\n",
      "    data = Quandl.get(underlying,authtoken=\"Rq1mnwz44EKFAZSqZpgz\")\n",
      "    datasets[underlying]=data.ix[datasets.index].values\n",
      "\n",
      "#data = datasets.iloc[:,1:100]\n",
      "#data = data.dropna()\n",
      "len(data)"
     ],
     "language": "python",
     "metadata": {},
     "outputs": [
      {
       "output_type": "stream",
       "stream": "stdout",
       "text": [
        "1\n",
        "YAHOO/NS_ABAN\n",
        "2"
       ]
      },
      {
       "output_type": "stream",
       "stream": "stdout",
       "text": [
        "\n",
        "YAHOO/NS_ABB\n",
        "3"
       ]
      },
      {
       "output_type": "stream",
       "stream": "stdout",
       "text": [
        "\n",
        "YAHOO/NS_ACC\n",
        "4"
       ]
      },
      {
       "output_type": "stream",
       "stream": "stdout",
       "text": [
        "\n",
        "YAHOO/NS_ALBK\n",
        "5"
       ]
      },
      {
       "output_type": "stream",
       "stream": "stdout",
       "text": [
        "\n",
        "YAHOO/NS_AQUA\n",
        "6"
       ]
      },
      {
       "output_type": "stream",
       "stream": "stdout",
       "text": [
        "\n",
        "YAHOO/NS_ATFL\n",
        "7"
       ]
      },
      {
       "output_type": "stream",
       "stream": "stdout",
       "text": [
        "\n",
        "YAHOO/NS_BANG\n",
        "8"
       ]
      },
      {
       "output_type": "stream",
       "stream": "stdout",
       "text": [
        "\n",
        "YAHOO/NS_BASF\n",
        "9"
       ]
      },
      {
       "output_type": "stream",
       "stream": "stdout",
       "text": [
        "\n",
        "YAHOO/NS_BBTC\n",
        "10"
       ]
      },
      {
       "output_type": "stream",
       "stream": "stdout",
       "text": [
        "\n",
        "YAHOO/NS_BEML\n",
        "11"
       ]
      },
      {
       "output_type": "stream",
       "stream": "stdout",
       "text": [
        "\n",
        "YAHOO/NS_BEPL\n",
        "12"
       ]
      },
      {
       "output_type": "stream",
       "stream": "stdout",
       "text": [
        "\n",
        "YAHOO/NS_BHEL\n",
        "13"
       ]
      },
      {
       "output_type": "stream",
       "stream": "stdout",
       "text": [
        "\n",
        "YAHOO/NS_BIL\n",
        "14"
       ]
      },
      {
       "output_type": "stream",
       "stream": "stdout",
       "text": [
        "\n",
        "YAHOO/NS_BPCL\n",
        "15"
       ]
      },
      {
       "output_type": "stream",
       "stream": "stdout",
       "text": [
        "\n",
        "YAHOO/NS_BPL\n",
        "16"
       ]
      },
      {
       "output_type": "stream",
       "stream": "stdout",
       "text": [
        "\n",
        "YAHOO/NS_BRFL\n",
        "17"
       ]
      },
      {
       "output_type": "stream",
       "stream": "stdout",
       "text": [
        "\n",
        "YAHOO/NS_CCCL\n",
        "18"
       ]
      },
      {
       "output_type": "stream",
       "stream": "stdout",
       "text": [
        "\n",
        "YAHOO/NS_CESC\n",
        "19"
       ]
      },
      {
       "output_type": "stream",
       "stream": "stdout",
       "text": [
        "\n",
        "YAHOO/NS_CIPLA\n",
        "20"
       ]
      },
      {
       "output_type": "stream",
       "stream": "stdout",
       "text": [
        "\n",
        "YAHOO/NS_CMC\n",
        "21"
       ]
      },
      {
       "output_type": "stream",
       "stream": "stdout",
       "text": [
        "\n",
        "YAHOO/NS_CRISIL\n",
        "22"
       ]
      },
      {
       "output_type": "stream",
       "stream": "stdout",
       "text": [
        "\n",
        "YAHOO/NS_CTE\n",
        "23"
       ]
      },
      {
       "output_type": "stream",
       "stream": "stdout",
       "text": [
        "\n",
        "YAHOO/NS_DABUR\n",
        "24"
       ]
      },
      {
       "output_type": "stream",
       "stream": "stdout",
       "text": [
        "\n",
        "YAHOO/NS_DCB\n",
        "25"
       ]
      },
      {
       "output_type": "stream",
       "stream": "stdout",
       "text": [
        "\n",
        "YAHOO/NS_DCM\n",
        "26"
       ]
      },
      {
       "output_type": "stream",
       "stream": "stdout",
       "text": [
        "\n",
        "YAHOO/NS_DCW\n",
        "27"
       ]
      },
      {
       "output_type": "stream",
       "stream": "stdout",
       "text": [
        "\n",
        "YAHOO/NS_DEN\n",
        "28"
       ]
      },
      {
       "output_type": "stream",
       "stream": "stdout",
       "text": [
        "\n",
        "YAHOO/NS_DPTL\n",
        "29"
       ]
      },
      {
       "output_type": "stream",
       "stream": "stdout",
       "text": [
        "\n",
        "YAHOO/NS_DQE\n",
        "30"
       ]
      },
      {
       "output_type": "stream",
       "stream": "stdout",
       "text": [
        "\n",
        "YAHOO/NS_EMCO\n",
        "31"
       ]
      },
      {
       "output_type": "stream",
       "stream": "stdout",
       "text": [
        "\n",
        "YAHOO/NS_EMKAY\n",
        "32"
       ]
      },
      {
       "output_type": "stream",
       "stream": "stdout",
       "text": [
        "\n",
        "YAHOO/NS_ENIL\n",
        "33"
       ]
      },
      {
       "output_type": "stream",
       "stream": "stdout",
       "text": [
        "\n",
        "YAHOO/NS_ESL\n",
        "34"
       ]
      },
      {
       "output_type": "stream",
       "stream": "stdout",
       "text": [
        "\n",
        "YAHOO/NS_FMNL\n",
        "35"
       ]
      },
      {
       "output_type": "stream",
       "stream": "stdout",
       "text": [
        "\n",
        "YAHOO/NS_GAIL\n",
        "36"
       ]
      },
      {
       "output_type": "stream",
       "stream": "stdout",
       "text": [
        "\n",
        "YAHOO/NS_GHCL\n",
        "37"
       ]
      },
      {
       "output_type": "stream",
       "stream": "stdout",
       "text": [
        "\n",
        "YAHOO/NS_GKB\n",
        "38"
       ]
      },
      {
       "output_type": "stream",
       "stream": "stdout",
       "text": [
        "\n",
        "YAHOO/NS_GNFC\n",
        "39"
       ]
      },
      {
       "output_type": "stream",
       "stream": "stdout",
       "text": [
        "\n",
        "YAHOO/NS_GRASIM\n",
        "40"
       ]
      },
      {
       "output_type": "stream",
       "stream": "stdout",
       "text": [
        "\n",
        "YAHOO/NS_GSFC\n",
        "41"
       ]
      },
      {
       "output_type": "stream",
       "stream": "stdout",
       "text": [
        "\n",
        "YAHOO/NS_HCC\n",
        "42"
       ]
      },
      {
       "output_type": "stream",
       "stream": "stdout",
       "text": [
        "\n",
        "YAHOO/NS_HDFC\n",
        "43"
       ]
      },
      {
       "output_type": "stream",
       "stream": "stdout",
       "text": [
        "\n",
        "YAHOO/NS_HDIL\n",
        "44"
       ]
      },
      {
       "output_type": "stream",
       "stream": "stdout",
       "text": [
        "\n",
        "YAHOO/NS_HEG\n",
        "45"
       ]
      },
      {
       "output_type": "stream",
       "stream": "stdout",
       "text": [
        "\n",
        "YAHOO/NS_HIL\n",
        "46"
       ]
      },
      {
       "output_type": "stream",
       "stream": "stdout",
       "text": [
        "\n",
        "YAHOO/NS_HMT\n",
        "47"
       ]
      },
      {
       "output_type": "stream",
       "stream": "stdout",
       "text": [
        "\n",
        "YAHOO/NS_HMVL\n",
        "48"
       ]
      },
      {
       "output_type": "stream",
       "stream": "stdout",
       "text": [
        "\n",
        "YAHOO/NS_HOVS\n",
        "49"
       ]
      },
      {
       "output_type": "stream",
       "stream": "stdout",
       "text": [
        "\n",
        "YAHOO/NS_IBPOW\n",
        "50"
       ]
      },
      {
       "output_type": "stream",
       "stream": "stdout",
       "text": [
        "\n",
        "YAHOO/NS_IBSEC\n",
        "51"
       ]
      },
      {
       "output_type": "stream",
       "stream": "stdout",
       "text": [
        "\n",
        "YAHOO/NS_ICRA\n",
        "52"
       ]
      },
      {
       "output_type": "stream",
       "stream": "stdout",
       "text": [
        "\n",
        "YAHOO/NS_IDBI\n",
        "53"
       ]
      },
      {
       "output_type": "stream",
       "stream": "stdout",
       "text": [
        "\n",
        "YAHOO/NS_IDEA\n",
        "54"
       ]
      },
      {
       "output_type": "stream",
       "stream": "stdout",
       "text": [
        "\n",
        "YAHOO/NS_IDFC\n",
        "55"
       ]
      },
      {
       "output_type": "stream",
       "stream": "stdout",
       "text": [
        "\n",
        "YAHOO/NS_IFCI\n",
        "56"
       ]
      },
      {
       "output_type": "stream",
       "stream": "stdout",
       "text": [
        "\n",
        "YAHOO/NS_IGL\n",
        "57"
       ]
      },
      {
       "output_type": "stream",
       "stream": "stdout",
       "text": [
        "\n",
        "YAHOO/NS_IGPL\n",
        "58"
       ]
      },
      {
       "output_type": "stream",
       "stream": "stdout",
       "text": [
        "\n",
        "YAHOO/NS_IMFA\n",
        "59"
       ]
      },
      {
       "output_type": "stream",
       "stream": "stdout",
       "text": [
        "\n",
        "YAHOO/NS_IOB\n",
        "60"
       ]
      },
      {
       "output_type": "stream",
       "stream": "stdout",
       "text": [
        "\n",
        "YAHOO/NS_IRB\n",
        "61"
       ]
      },
      {
       "output_type": "stream",
       "stream": "stdout",
       "text": [
        "\n",
        "YAHOO/NS_ITC\n",
        "62"
       ]
      },
      {
       "output_type": "stream",
       "stream": "stdout",
       "text": [
        "\n",
        "YAHOO/NS_ITI\n",
        "63"
       ]
      },
      {
       "output_type": "stream",
       "stream": "stdout",
       "text": [
        "\n",
        "YAHOO/NS_IVP\n",
        "64"
       ]
      },
      {
       "output_type": "stream",
       "stream": "stdout",
       "text": [
        "\n",
        "YAHOO/NS_JKIL\n",
        "65"
       ]
      },
      {
       "output_type": "stream",
       "stream": "stdout",
       "text": [
        "\n",
        "YAHOO/NS_JOCIL\n",
        "66"
       ]
      },
      {
       "output_type": "stream",
       "stream": "stdout",
       "text": [
        "\n",
        "YAHOO/NS_KBIL\n",
        "67"
       ]
      },
      {
       "output_type": "stream",
       "stream": "stdout",
       "text": [
        "\n",
        "YAHOO/NS_KECL\n",
        "68"
       ]
      },
      {
       "output_type": "stream",
       "stream": "stdout",
       "text": [
        "\n",
        "YAHOO/NS_KIL\n",
        "69"
       ]
      },
      {
       "output_type": "stream",
       "stream": "stdout",
       "text": [
        "\n",
        "YAHOO/NS_KPIT\n",
        "70"
       ]
      },
      {
       "output_type": "stream",
       "stream": "stdout",
       "text": [
        "\n",
        "YAHOO/NS_KSCL\n",
        "71"
       ]
      },
      {
       "output_type": "stream",
       "stream": "stdout",
       "text": [
        "\n",
        "YAHOO/NS_KSK\n",
        "72"
       ]
      },
      {
       "output_type": "stream",
       "stream": "stdout",
       "text": [
        "\n",
        "YAHOO/NS_KTIL\n",
        "73"
       ]
      },
      {
       "output_type": "stream",
       "stream": "stdout",
       "text": [
        "\n",
        "YAHOO/NS_LML\n",
        "74"
       ]
      },
      {
       "output_type": "stream",
       "stream": "stdout",
       "text": [
        "\n",
        "YAHOO/NS_LT\n",
        "75"
       ]
      },
      {
       "output_type": "stream",
       "stream": "stdout",
       "text": [
        "\n",
        "YAHOO/NS_MAX\n",
        "76"
       ]
      },
      {
       "output_type": "stream",
       "stream": "stdout",
       "text": [
        "\n",
        "YAHOO/NS_MCX\n",
        "77"
       ]
      },
      {
       "output_type": "stream",
       "stream": "stdout",
       "text": [
        "\n",
        "YAHOO/NS_MEGH\n",
        "78"
       ]
      },
      {
       "output_type": "stream",
       "stream": "stdout",
       "text": [
        "\n",
        "YAHOO/NS_MMTC\n",
        "79"
       ]
      },
      {
       "output_type": "stream",
       "stream": "stdout",
       "text": [
        "\n",
        "YAHOO/NS_MOIL\n",
        "80"
       ]
      },
      {
       "output_type": "stream",
       "stream": "stdout",
       "text": [
        "\n",
        "YAHOO/NS_MRF\n",
        "81"
       ]
      },
      {
       "output_type": "stream",
       "stream": "stdout",
       "text": [
        "\n",
        "YAHOO/NS_MRPL\n",
        "82"
       ]
      },
      {
       "output_type": "stream",
       "stream": "stdout",
       "text": [
        "\n",
        "YAHOO/NS_MTNL\n",
        "83"
       ]
      },
      {
       "output_type": "stream",
       "stream": "stdout",
       "text": [
        "\n",
        "YAHOO/NS_NBCC\n",
        "84"
       ]
      },
      {
       "output_type": "stream",
       "stream": "stdout",
       "text": [
        "\n",
        "YAHOO/NS_NDTV\n",
        "85"
       ]
      },
      {
       "output_type": "stream",
       "stream": "stdout",
       "text": [
        "\n",
        "YAHOO/NS_NELCO\n",
        "86"
       ]
      },
      {
       "output_type": "stream",
       "stream": "stdout",
       "text": [
        "\n",
        "YAHOO/NS_NET4\n",
        "87"
       ]
      },
      {
       "output_type": "stream",
       "stream": "stdout",
       "text": [
        "\n",
        "YAHOO/NS_NFL\n",
        "88"
       ]
      },
      {
       "output_type": "stream",
       "stream": "stdout",
       "text": [
        "\n",
        "YAHOO/NS_NHPC\n",
        "89"
       ]
      },
      {
       "output_type": "stream",
       "stream": "stdout",
       "text": [
        "\n",
        "YAHOO/NS_NITCO\n",
        "90"
       ]
      },
      {
       "output_type": "stream",
       "stream": "stdout",
       "text": [
        "\n",
        "YAHOO/NS_NMDC\n",
        "91"
       ]
      },
      {
       "output_type": "stream",
       "stream": "stdout",
       "text": [
        "\n",
        "YAHOO/NS_NOCIL\n",
        "92"
       ]
      },
      {
       "output_type": "stream",
       "stream": "stdout",
       "text": [
        "\n",
        "YAHOO/NS_NOL\n",
        "93"
       ]
      },
      {
       "output_type": "stream",
       "stream": "stdout",
       "text": [
        "\n",
        "YAHOO/NS_NTPC\n",
        "94"
       ]
      },
      {
       "output_type": "stream",
       "stream": "stdout",
       "text": [
        "\n",
        "YAHOO/NS_OFSS\n",
        "95"
       ]
      },
      {
       "output_type": "stream",
       "stream": "stdout",
       "text": [
        "\n",
        "YAHOO/NS_OIL\n",
        "96"
       ]
      },
      {
       "output_type": "stream",
       "stream": "stdout",
       "text": [
        "\n",
        "YAHOO/NS_OISL\n",
        "97"
       ]
      },
      {
       "output_type": "stream",
       "stream": "stdout",
       "text": [
        "\n",
        "YAHOO/NS_ONGC\n",
        "98"
       ]
      },
      {
       "output_type": "stream",
       "stream": "stdout",
       "text": [
        "\n",
        "YAHOO/NS_PGEL\n",
        "99"
       ]
      },
      {
       "output_type": "stream",
       "stream": "stdout",
       "text": [
        "\n",
        "YAHOO/NS_PGIL\n",
        "100"
       ]
      },
      {
       "output_type": "stream",
       "stream": "stdout",
       "text": [
        "\n",
        "YAHOO/NS_PNB\n",
        "101"
       ]
      },
      {
       "output_type": "stream",
       "stream": "stdout",
       "text": [
        "\n",
        "YAHOO/NS_PPAP\n",
        "102"
       ]
      },
      {
       "output_type": "stream",
       "stream": "stdout",
       "text": [
        "\n",
        "YAHOO/NS_PSL\n",
        "103"
       ]
      },
      {
       "output_type": "stream",
       "stream": "stdout",
       "text": [
        "\n",
        "YAHOO/NS_PTL\n",
        "104"
       ]
      },
      {
       "output_type": "stream",
       "stream": "stdout",
       "text": [
        "\n",
        "YAHOO/NS_RBN\n",
        "105"
       ]
      },
      {
       "output_type": "stream",
       "stream": "stdout",
       "text": [
        "\n",
        "YAHOO/NS_RCF\n",
        "106"
       ]
      },
      {
       "output_type": "stream",
       "stream": "stdout",
       "text": [
        "\n",
        "YAHOO/NS_RCOM\n",
        "107"
       ]
      },
      {
       "output_type": "stream",
       "stream": "stdout",
       "text": [
        "\n",
        "YAHOO/NS_RIIL\n",
        "108"
       ]
      },
      {
       "output_type": "stream",
       "stream": "stdout",
       "text": [
        "\n",
        "YAHOO/NS_RML\n",
        "109"
       ]
      },
      {
       "output_type": "stream",
       "stream": "stdout",
       "text": [
        "\n",
        "YAHOO/NS_RUPA\n",
        "110"
       ]
      },
      {
       "output_type": "stream",
       "stream": "stdout",
       "text": [
        "\n",
        "YAHOO/NS_SABTN\n",
        "111"
       ]
      },
      {
       "output_type": "stream",
       "stream": "stdout",
       "text": [
        "\n",
        "YAHOO/NS_SAIL\n",
        "112"
       ]
      },
      {
       "output_type": "stream",
       "stream": "stdout",
       "text": [
        "\n",
        "YAHOO/NS_SBBJ\n",
        "113"
       ]
      },
      {
       "output_type": "stream",
       "stream": "stdout",
       "text": [
        "\n",
        "YAHOO/NS_SBIN\n",
        "114"
       ]
      },
      {
       "output_type": "stream",
       "stream": "stdout",
       "text": [
        "\n",
        "YAHOO/NS_SBT\n",
        "115"
       ]
      },
      {
       "output_type": "stream",
       "stream": "stdout",
       "text": [
        "\n",
        "YAHOO/NS_SCI\n",
        "116"
       ]
      },
      {
       "output_type": "stream",
       "stream": "stdout",
       "text": [
        "\n",
        "YAHOO/NS_SJVN\n",
        "117"
       ]
      },
      {
       "output_type": "stream",
       "stream": "stdout",
       "text": [
        "\n",
        "YAHOO/NS_SOBHA\n",
        "118"
       ]
      },
      {
       "output_type": "stream",
       "stream": "stdout",
       "text": [
        "\n",
        "YAHOO/NS_SOTL\n",
        "119"
       ]
      },
      {
       "output_type": "stream",
       "stream": "stdout",
       "text": [
        "\n",
        "YAHOO/NS_SPYL\n",
        "120"
       ]
      },
      {
       "output_type": "stream",
       "stream": "stdout",
       "text": [
        "\n",
        "YAHOO/NS_SRF\n",
        "121"
       ]
      },
      {
       "output_type": "stream",
       "stream": "stdout",
       "text": [
        "\n",
        "YAHOO/NS_STEL\n",
        "122"
       ]
      },
      {
       "output_type": "stream",
       "stream": "stdout",
       "text": [
        "\n",
        "YAHOO/NS_SUDAR\n",
        "123"
       ]
      },
      {
       "output_type": "stream",
       "stream": "stdout",
       "text": [
        "\n",
        "YAHOO/NS_SUNTV\n",
        "124"
       ]
      },
      {
       "output_type": "stream",
       "stream": "stdout",
       "text": [
        "\n",
        "YAHOO/NS_TAKE\n",
        "125"
       ]
      },
      {
       "output_type": "stream",
       "stream": "stdout",
       "text": [
        "\n",
        "YAHOO/NS_TCS\n",
        "126"
       ]
      },
      {
       "output_type": "stream",
       "stream": "stdout",
       "text": [
        "\n",
        "YAHOO/NS_TECHM\n",
        "127"
       ]
      },
      {
       "output_type": "stream",
       "stream": "stdout",
       "text": [
        "\n",
        "YAHOO/NS_TI\n",
        "128"
       ]
      },
      {
       "output_type": "stream",
       "stream": "stdout",
       "text": [
        "\n",
        "YAHOO/NS_TIIL\n",
        "129"
       ]
      },
      {
       "output_type": "stream",
       "stream": "stdout",
       "text": [
        "\n",
        "YAHOO/NS_TIL\n",
        "130"
       ]
      },
      {
       "output_type": "stream",
       "stream": "stdout",
       "text": [
        "\n",
        "YAHOO/NS_TRENT\n",
        "131"
       ]
      },
      {
       "output_type": "stream",
       "stream": "stdout",
       "text": [
        "\n",
        "YAHOO/NS_TRF\n",
        "132"
       ]
      },
      {
       "output_type": "stream",
       "stream": "stdout",
       "text": [
        "\n",
        "YAHOO/NS_TRIL\n",
        "133"
       ]
      },
      {
       "output_type": "stream",
       "stream": "stdout",
       "text": [
        "\n",
        "YAHOO/NS_TWL\n",
        "134"
       ]
      },
      {
       "output_type": "stream",
       "stream": "stdout",
       "text": [
        "\n",
        "YAHOO/NS_VIPUL\n",
        "135"
       ]
      },
      {
       "output_type": "stream",
       "stream": "stdout",
       "text": [
        "\n",
        "YAHOO/NS_VSSL\n",
        "136"
       ]
      },
      {
       "output_type": "stream",
       "stream": "stdout",
       "text": [
        "\n",
        "YAHOO/NS_WSI\n"
       ]
      },
      {
       "metadata": {},
       "output_type": "pyout",
       "prompt_number": 241,
       "text": [
        "1815"
       ]
      }
     ],
     "prompt_number": 241
    },
    {
     "cell_type": "code",
     "collapsed": false,
     "input": [
      "datasets = datasets.dropna()\n",
      "data2 = pd.rolling_std(datasets,window=45)[60:]\n",
      "corr = data2.corr()\n",
      "corr = corr.dropna()\n",
      "#plt.imshow(corr, cmap='hot', interpolation='none')\n",
      "#plt.colorbar()\n",
      "#plt.xticks(range(len(corr)), corr.columns,rotation='vertical')\n",
      "#plt.yticks(range(len(corr)), corr.columns);\n"
     ],
     "language": "python",
     "metadata": {},
     "outputs": [],
     "prompt_number": 201
    },
    {
     "cell_type": "code",
     "collapsed": false,
     "input": [
      "cor2 = corr.stack()\n",
      "print cor2[(cor2 < -0.6) & (cor2!=1.000)]"
     ],
     "language": "python",
     "metadata": {},
     "outputs": [
      {
       "output_type": "stream",
       "stream": "stdout",
       "text": [
        "YAHOO/NS_ACC   YAHOO/NS_HMVL    -0.614166\n",
        "YAHOO/NS_ATFL  YAHOO/NS_BEML    -0.600847\n",
        "               YAHOO/NS_EMKAY   -0.612407\n",
        "               YAHOO/NS_HOVS    -0.625153\n",
        "               YAHOO/NS_IGPL    -0.667359\n",
        "               YAHOO/NS_MTNL    -0.656667\n",
        "               YAHOO/NS_RML     -0.760658\n",
        "               YAHOO/NS_SCI     -0.694857\n",
        "               YAHOO/NS_TRF     -0.654453\n",
        "               YAHOO/NS_VSSL    -0.617334\n",
        "YAHOO/NS_BANG  YAHOO/NS_DABUR   -0.634640\n",
        "YAHOO/NS_BEML  YAHOO/NS_ATFL    -0.600847\n",
        "               YAHOO/NS_IDEA    -0.621094\n",
        "YAHOO/NS_BEPL  YAHOO/NS_IOB     -0.707340\n",
        "YAHOO/NS_CESC  YAHOO/NS_NOCIL   -0.609487\n",
        "...\n",
        "YAHOO/NS_SOBHA  YAHOO/NS_DCM    -0.751769\n",
        "YAHOO/NS_SOTL   YAHOO/NS_CTE    -0.603338\n",
        "                YAHOO/NS_WSI    -0.711585\n",
        "YAHOO/NS_TAKE   YAHOO/NS_CMC    -0.666577\n",
        "                YAHOO/NS_HCC    -0.616969\n",
        "YAHOO/NS_TRF    YAHOO/NS_ATFL   -0.654453\n",
        "YAHOO/NS_TRIL   YAHOO/NS_SBBJ   -0.613352\n",
        "YAHOO/NS_VSSL   YAHOO/NS_ATFL   -0.617334\n",
        "                YAHOO/NS_MRF    -0.692947\n",
        "                YAHOO/NS_OISL   -0.641889\n",
        "                YAHOO/NS_SBT    -0.602110\n",
        "YAHOO/NS_WSI    YAHOO/NS_IDEA   -0.638948\n",
        "                YAHOO/NS_ITC    -0.643294\n",
        "                YAHOO/NS_LT     -0.739355\n",
        "                YAHOO/NS_SOTL   -0.711585\n",
        "Length: 154, dtype: float64\n"
       ]
      }
     ],
     "prompt_number": 203
    },
    {
     "cell_type": "code",
     "collapsed": false,
     "input": [
      "underlyings = ['YAHOO/NS_WSI','YAHOO/NS_IDEA','YAHOO/NS_ITC','YAHOO/NS_LT']\n",
      "data_ranks = datasets[underlyings]\n",
      "for underlying in underlyings:\n",
      "    myranks = relative_strength(data_ranks[underlying])\n",
      "    colname = 'R_'+str(underlying)\n",
      "    data_ranks[colname] = myranks"
     ],
     "language": "python",
     "metadata": {},
     "outputs": [],
     "prompt_number": 215
    },
    {
     "cell_type": "code",
     "collapsed": false,
     "input": [
      "data = data_ranks\n",
      "def verify_buyranks(val):\n",
      "    flag = 0\n",
      "    for underlying in underlyings:\n",
      "        colname = \"R_\"+str(underlying)\n",
      "        if(val<40):\n",
      "            flag = flag + 1\n",
      "    return flag\n",
      "\n",
      "def verify_sellranks(val):\n",
      "    flag = 0\n",
      "    for underlying in underlyings:\n",
      "        colname = \"R_\"+str(underlying)\n",
      "        if(val>50):\n",
      "            flag = flag + 1\n",
      "    return flag\n",
      "\n",
      "def mtm_capital(i,previous):\n",
      "    for underlying in underlyings:\n",
      "        data['mtm'][i]=data['mtm'][i]+n*(data[underlying][i]-data[underlying][previous])\n",
      "def update_capital(i,sign):\n",
      "    for underlying in underlyings:\n",
      "        data['capital'][i]=data['capital'][i]+sign*n*data[underlying][i]\n",
      "\n",
      "previous = 0\n",
      "ordered=False\n",
      "data['flag']=0\n",
      "#make sure you dont write 0 for returns otherwise it treats it as an integer\n",
      "data['returns']=0.0\n",
      "data['capital']=1000.0\n",
      "data['mtm'] = 0.0\n",
      "drawdown = 400.0\n",
      "data['drawdowncount']=0.0\n",
      "n=1.0\n",
      "\n",
      "for i in arange(1,len(data)):\n",
      "    data['capital'][i]=data['capital'][i-1]\n",
      "\n",
      "    data['drawdowncount'][i] = data['drawdowncount'][i-1]\n",
      "    \n",
      "    buy_flag = verify_buyranks(data[colname][i])\n",
      "    if(buy_flag == len(underlyings) and ordered == False):\n",
      "        data['flag'][i] = 1\n",
      "        ordered = True\n",
      "        previous = i\n",
      "        update_capital(i,-1)\n",
      "        print \"Purchased at:\" + str(data.iloc[i].name)\n",
      "    sell_flag = verify_sellranks(data[colname][i])\n",
      "        \n",
      "    if(ordered == True):\n",
      "        #Update capital growth\n",
      "        mtm_capital(i,previous)\n",
      "        \n",
      "    if(data['mtm'][i]<-70):\n",
      "        #Close the position\n",
      "        data['flag'][i]=-1\n",
      "        ordered=False\n",
      "        update_capital(i,1)\n",
      "        print \"Sold at:\" + str(data.iloc[i].name)\n",
      "        print \"Days passed:\" + str(i-previous)\n",
      "\n",
      "    if(sell_flag == len(underlyings) and ordered == True and (i-previous)>30.0):\n",
      "        data['flag'][i]=-1 \n",
      "        ordered=False \n",
      "#        data['returns'][i]=log(data['spot'][i]/data['spot'][previous])\n",
      "        update_capital(i,1)\n",
      "        print \"Sold at:\" + str(data.iloc[i].name)\n",
      "        print \"Days passed:\" + str(i-previous)\n",
      "    if (data['capital'][i]<500):\n",
      "        print \"All money lost! Better luck next time\"\n",
      "        break\n",
      "            #Update number of times drawdown is reached\n",
      " \n",
      "def update_drawdown(i):\n",
      "    if(data['capital'][i]<drawdown):\n",
      "        data['drawdowncount'][i]= data['drawdowncount'][i]+1\n",
      " \n",
      "data['cash'] = data['capital']+data['mtm']\n",
      "data['cash'].plot()\n"
     ],
     "language": "python",
     "metadata": {},
     "outputs": [
      {
       "output_type": "stream",
       "stream": "stdout",
       "text": [
        "Purchased at:2012-08-30\n",
        "All money lost! Better luck next time\n"
       ]
      },
      {
       "metadata": {},
       "output_type": "pyout",
       "prompt_number": 216,
       "text": [
        "<matplotlib.axes.AxesSubplot at 0x112ef2f10>"
       ]
      }
     ],
     "prompt_number": 216
    },
    {
     "cell_type": "code",
     "collapsed": false,
     "input": [
      "data['YAHOO/NS_GSFC'].plot()"
     ],
     "language": "python",
     "metadata": {},
     "outputs": [
      {
       "metadata": {},
       "output_type": "pyout",
       "prompt_number": 176,
       "text": [
        "<matplotlib.axes.AxesSubplot at 0x110f89110>"
       ]
      }
     ],
     "prompt_number": 176
    },
    {
     "cell_type": "code",
     "collapsed": false,
     "input": [
      "csvlist[csvlist[' Quandl Code']=='YAHOO/NS_GSFC']"
     ],
     "language": "python",
     "metadata": {},
     "outputs": [
      {
       "html": [
        "<div style=\"max-height:1000px;max-width:1500px;overflow:auto;\">\n",
        "<table border=\"1\" class=\"dataframe\">\n",
        "  <thead>\n",
        "    <tr style=\"text-align: right;\">\n",
        "      <th></th>\n",
        "      <th>Ticker</th>\n",
        "      <th> Quandl Code</th>\n",
        "      <th> Name</th>\n",
        "    </tr>\n",
        "  </thead>\n",
        "  <tbody>\n",
        "    <tr>\n",
        "      <th>39</th>\n",
        "      <td> GSFC</td>\n",
        "      <td> YAHOO/NS_GSFC</td>\n",
        "      <td> GUJARAT STATE FERT LTD.</td>\n",
        "    </tr>\n",
        "  </tbody>\n",
        "</table>\n",
        "</div>"
       ],
       "metadata": {},
       "output_type": "pyout",
       "prompt_number": 179,
       "text": [
        "   Ticker    Quandl Code                     Name\n",
        "39   GSFC  YAHOO/NS_GSFC  GUJARAT STATE FERT LTD."
       ]
      }
     ],
     "prompt_number": 179
    },
    {
     "cell_type": "code",
     "collapsed": false,
     "input": [
      "csvlist"
     ],
     "language": "python",
     "metadata": {},
     "outputs": [
      {
       "html": [
        "<div style=\"max-height:1000px;max-width:1500px;overflow:auto;\">\n",
        "<table border=\"1\" class=\"dataframe\">\n",
        "  <thead>\n",
        "    <tr style=\"text-align: right;\">\n",
        "      <th></th>\n",
        "      <th>Ticker</th>\n",
        "      <th> Quandl Code</th>\n",
        "      <th> Name</th>\n",
        "    </tr>\n",
        "  </thead>\n",
        "  <tbody>\n",
        "    <tr>\n",
        "      <th>0  </th>\n",
        "      <td>   ABAN</td>\n",
        "      <td>   YAHOO/NS_ABAN</td>\n",
        "      <td>         ABAN OFFSHORE LTD.</td>\n",
        "    </tr>\n",
        "    <tr>\n",
        "      <th>1  </th>\n",
        "      <td>    ABB</td>\n",
        "      <td>    YAHOO/NS_ABB</td>\n",
        "      <td>                ABB LIMITED</td>\n",
        "    </tr>\n",
        "    <tr>\n",
        "      <th>2  </th>\n",
        "      <td>    ACC</td>\n",
        "      <td>    YAHOO/NS_ACC</td>\n",
        "      <td>                ACC LIMITED</td>\n",
        "    </tr>\n",
        "    <tr>\n",
        "      <th>3  </th>\n",
        "      <td>   ALBK</td>\n",
        "      <td>   YAHOO/NS_ALBK</td>\n",
        "      <td>             ALLAHABAD BANK</td>\n",
        "    </tr>\n",
        "    <tr>\n",
        "      <th>4  </th>\n",
        "      <td>   AQUA</td>\n",
        "      <td>   YAHOO/NS_AQUA</td>\n",
        "      <td>         AQUA LOGISTICS LTD</td>\n",
        "    </tr>\n",
        "    <tr>\n",
        "      <th>5  </th>\n",
        "      <td>   ATFL</td>\n",
        "      <td>   YAHOO/NS_ATFL</td>\n",
        "      <td>    AGRO TECH FOODS LIMITED</td>\n",
        "    </tr>\n",
        "    <tr>\n",
        "      <th>6  </th>\n",
        "      <td>   BANG</td>\n",
        "      <td>   YAHOO/NS_BANG</td>\n",
        "      <td>      BANG OVERSEAS LIMITED</td>\n",
        "    </tr>\n",
        "    <tr>\n",
        "      <th>7  </th>\n",
        "      <td>   BASF</td>\n",
        "      <td>   YAHOO/NS_BASF</td>\n",
        "      <td>                  BASF LTD.</td>\n",
        "    </tr>\n",
        "    <tr>\n",
        "      <th>8  </th>\n",
        "      <td>   BBTC</td>\n",
        "      <td>   YAHOO/NS_BBTC</td>\n",
        "      <td>      BOMBAY BURMAH TRADING</td>\n",
        "    </tr>\n",
        "    <tr>\n",
        "      <th>9  </th>\n",
        "      <td>   BEML</td>\n",
        "      <td>   YAHOO/NS_BEML</td>\n",
        "      <td>               BEML LIMITED</td>\n",
        "    </tr>\n",
        "    <tr>\n",
        "      <th>10 </th>\n",
        "      <td>   BEPL</td>\n",
        "      <td>   YAHOO/NS_BEPL</td>\n",
        "      <td>  BHANSALI ENG. POLYMERS LT</td>\n",
        "    </tr>\n",
        "    <tr>\n",
        "      <th>11 </th>\n",
        "      <td>   BHEL</td>\n",
        "      <td>   YAHOO/NS_BHEL</td>\n",
        "      <td>    BHARAT HEAVY ELECT LTD.</td>\n",
        "    </tr>\n",
        "    <tr>\n",
        "      <th>12 </th>\n",
        "      <td>    BIL</td>\n",
        "      <td>    YAHOO/NS_BIL</td>\n",
        "      <td>      BHARTIYA INTL LIMITED</td>\n",
        "    </tr>\n",
        "    <tr>\n",
        "      <th>13 </th>\n",
        "      <td>   BPCL</td>\n",
        "      <td>   YAHOO/NS_BPCL</td>\n",
        "      <td>       BHARAT PETROLEUM LTD</td>\n",
        "    </tr>\n",
        "    <tr>\n",
        "      <th>14 </th>\n",
        "      <td>    BPL</td>\n",
        "      <td>    YAHOO/NS_BPL</td>\n",
        "      <td>                   BPL LTD.</td>\n",
        "    </tr>\n",
        "    <tr>\n",
        "      <th>15 </th>\n",
        "      <td>   BRFL</td>\n",
        "      <td>   YAHOO/NS_BRFL</td>\n",
        "      <td>  BOMBAY RAYON FASHIONS LIM</td>\n",
        "    </tr>\n",
        "    <tr>\n",
        "      <th>16 </th>\n",
        "      <td>   CCCL</td>\n",
        "      <td>   YAHOO/NS_CCCL</td>\n",
        "      <td>  CONSOLIDATED CONSTRUCTION</td>\n",
        "    </tr>\n",
        "    <tr>\n",
        "      <th>17 </th>\n",
        "      <td>   CESC</td>\n",
        "      <td>   YAHOO/NS_CESC</td>\n",
        "      <td>                  CESC LTD.</td>\n",
        "    </tr>\n",
        "    <tr>\n",
        "      <th>18 </th>\n",
        "      <td>  CIPLA</td>\n",
        "      <td>  YAHOO/NS_CIPLA</td>\n",
        "      <td>                  CIPLA LTD</td>\n",
        "    </tr>\n",
        "    <tr>\n",
        "      <th>19 </th>\n",
        "      <td>    CMC</td>\n",
        "      <td>    YAHOO/NS_CMC</td>\n",
        "      <td>                   CMC LTD.</td>\n",
        "    </tr>\n",
        "    <tr>\n",
        "      <th>20 </th>\n",
        "      <td> CRISIL</td>\n",
        "      <td> YAHOO/NS_CRISIL</td>\n",
        "      <td>             CRISIL LIMITED</td>\n",
        "    </tr>\n",
        "    <tr>\n",
        "      <th>21 </th>\n",
        "      <td>    CTE</td>\n",
        "      <td>    YAHOO/NS_CTE</td>\n",
        "      <td>  CAMBRIDGE TECHNOLOGY ENTE</td>\n",
        "    </tr>\n",
        "    <tr>\n",
        "      <th>22 </th>\n",
        "      <td>  DABUR</td>\n",
        "      <td>  YAHOO/NS_DABUR</td>\n",
        "      <td>           DABUR INDIA LTD.</td>\n",
        "    </tr>\n",
        "    <tr>\n",
        "      <th>23 </th>\n",
        "      <td>    DCB</td>\n",
        "      <td>    YAHOO/NS_DCB</td>\n",
        "      <td>  DEVELOPMENT CREDIT BANK L</td>\n",
        "    </tr>\n",
        "    <tr>\n",
        "      <th>24 </th>\n",
        "      <td>    DCM</td>\n",
        "      <td>    YAHOO/NS_DCM</td>\n",
        "      <td>                   DCM  LTD</td>\n",
        "    </tr>\n",
        "    <tr>\n",
        "      <th>25 </th>\n",
        "      <td>    DCW</td>\n",
        "      <td>    YAHOO/NS_DCW</td>\n",
        "      <td>                    DCW LTD</td>\n",
        "    </tr>\n",
        "    <tr>\n",
        "      <th>26 </th>\n",
        "      <td>    DEN</td>\n",
        "      <td>    YAHOO/NS_DEN</td>\n",
        "      <td>           DEN NETWORKS LTD</td>\n",
        "    </tr>\n",
        "    <tr>\n",
        "      <th>27 </th>\n",
        "      <td>   DPTL</td>\n",
        "      <td>   YAHOO/NS_DPTL</td>\n",
        "      <td>  DHUNSERI PETROC &amp; TEA LTD</td>\n",
        "    </tr>\n",
        "    <tr>\n",
        "      <th>28 </th>\n",
        "      <td>    DQE</td>\n",
        "      <td>    YAHOO/NS_DQE</td>\n",
        "      <td>   DQ ENTERTAINMENT INT LTD</td>\n",
        "    </tr>\n",
        "    <tr>\n",
        "      <th>29 </th>\n",
        "      <td>   EMCO</td>\n",
        "      <td>   YAHOO/NS_EMCO</td>\n",
        "      <td>               EMCO LIMITED</td>\n",
        "    </tr>\n",
        "    <tr>\n",
        "      <th>...</th>\n",
        "      <td>...</td>\n",
        "      <td>...</td>\n",
        "      <td>...</td>\n",
        "    </tr>\n",
        "    <tr>\n",
        "      <th>106</th>\n",
        "      <td>   RIIL</td>\n",
        "      <td>   YAHOO/NS_RIIL</td>\n",
        "      <td>    RELIANCE INDL INFRA LTD</td>\n",
        "    </tr>\n",
        "    <tr>\n",
        "      <th>107</th>\n",
        "      <td>    RML</td>\n",
        "      <td>    YAHOO/NS_RML</td>\n",
        "      <td>      RANE (MADRAS) LIMITED</td>\n",
        "    </tr>\n",
        "    <tr>\n",
        "      <th>108</th>\n",
        "      <td>   RUPA</td>\n",
        "      <td>   YAHOO/NS_RUPA</td>\n",
        "      <td>         RUPA &amp; COMPANY LTD</td>\n",
        "    </tr>\n",
        "    <tr>\n",
        "      <th>109</th>\n",
        "      <td>  SABTN</td>\n",
        "      <td>  YAHOO/NS_SABTN</td>\n",
        "      <td>  SRI ADHIKARI BROTHERS TEL</td>\n",
        "    </tr>\n",
        "    <tr>\n",
        "      <th>110</th>\n",
        "      <td>   SAIL</td>\n",
        "      <td>   YAHOO/NS_SAIL</td>\n",
        "      <td>   STEEL AUTHORITY OF INDIA</td>\n",
        "    </tr>\n",
        "    <tr>\n",
        "      <th>111</th>\n",
        "      <td>   SBBJ</td>\n",
        "      <td>   YAHOO/NS_SBBJ</td>\n",
        "      <td>  STATE BANK OF BIKANER AND</td>\n",
        "    </tr>\n",
        "    <tr>\n",
        "      <th>112</th>\n",
        "      <td>   SBIN</td>\n",
        "      <td>   YAHOO/NS_SBIN</td>\n",
        "      <td>        STATE BANK OF INDIA</td>\n",
        "    </tr>\n",
        "    <tr>\n",
        "      <th>113</th>\n",
        "      <td>    SBT</td>\n",
        "      <td>    YAHOO/NS_SBT</td>\n",
        "      <td>   STATE BANK OF TRAVANCORE</td>\n",
        "    </tr>\n",
        "    <tr>\n",
        "      <th>114</th>\n",
        "      <td>    SCI</td>\n",
        "      <td>    YAHOO/NS_SCI</td>\n",
        "      <td>     SHIPPING CORP OF INDIA</td>\n",
        "    </tr>\n",
        "    <tr>\n",
        "      <th>115</th>\n",
        "      <td>   SJVN</td>\n",
        "      <td>   YAHOO/NS_SJVN</td>\n",
        "      <td>                   SJVN LTD</td>\n",
        "    </tr>\n",
        "    <tr>\n",
        "      <th>116</th>\n",
        "      <td>  SOBHA</td>\n",
        "      <td>  YAHOO/NS_SOBHA</td>\n",
        "      <td>   SOBHA DEVELOPERS LIMITED</td>\n",
        "    </tr>\n",
        "    <tr>\n",
        "      <th>117</th>\n",
        "      <td>   SOTL</td>\n",
        "      <td>   YAHOO/NS_SOTL</td>\n",
        "      <td>  SAVITA OIL TECHNOLOGIES L</td>\n",
        "    </tr>\n",
        "    <tr>\n",
        "      <th>118</th>\n",
        "      <td>   SPYL</td>\n",
        "      <td>   YAHOO/NS_SPYL</td>\n",
        "      <td>  SHEKHAWATI POLY-YARN LTD.</td>\n",
        "    </tr>\n",
        "    <tr>\n",
        "      <th>119</th>\n",
        "      <td>    SRF</td>\n",
        "      <td>    YAHOO/NS_SRF</td>\n",
        "      <td>                   SRF LTD.</td>\n",
        "    </tr>\n",
        "    <tr>\n",
        "      <th>120</th>\n",
        "      <td>   STEL</td>\n",
        "      <td>   YAHOO/NS_STEL</td>\n",
        "      <td>   SENTINEL TEA AND EXP LTD</td>\n",
        "    </tr>\n",
        "    <tr>\n",
        "      <th>121</th>\n",
        "      <td>  SUDAR</td>\n",
        "      <td>  YAHOO/NS_SUDAR</td>\n",
        "      <td>         SUDAR GARMENTS LTD</td>\n",
        "    </tr>\n",
        "    <tr>\n",
        "      <th>122</th>\n",
        "      <td>  SUNTV</td>\n",
        "      <td>  YAHOO/NS_SUNTV</td>\n",
        "      <td>     SUN TV NETWORK LIMITED</td>\n",
        "    </tr>\n",
        "    <tr>\n",
        "      <th>123</th>\n",
        "      <td>   TAKE</td>\n",
        "      <td>   YAHOO/NS_TAKE</td>\n",
        "      <td>     TAKE SOLUTIONS LIMITED</td>\n",
        "    </tr>\n",
        "    <tr>\n",
        "      <th>124</th>\n",
        "      <td>    TCS</td>\n",
        "      <td>    YAHOO/NS_TCS</td>\n",
        "      <td>  TATA CONSULTANCY SERV LTD</td>\n",
        "    </tr>\n",
        "    <tr>\n",
        "      <th>125</th>\n",
        "      <td>  TECHM</td>\n",
        "      <td>  YAHOO/NS_TECHM</td>\n",
        "      <td>      TECH MAHINDRA LIMITED</td>\n",
        "    </tr>\n",
        "    <tr>\n",
        "      <th>126</th>\n",
        "      <td>     TI</td>\n",
        "      <td>     YAHOO/NS_TI</td>\n",
        "      <td>  TILAKNAGAR INDUSTRIES LTD</td>\n",
        "    </tr>\n",
        "    <tr>\n",
        "      <th>127</th>\n",
        "      <td>   TIIL</td>\n",
        "      <td>   YAHOO/NS_TIIL</td>\n",
        "      <td>  TECHNOCRAFT INDUSTRIES (I</td>\n",
        "    </tr>\n",
        "    <tr>\n",
        "      <th>128</th>\n",
        "      <td>    TIL</td>\n",
        "      <td>    YAHOO/NS_TIL</td>\n",
        "      <td>                    TIL LTD</td>\n",
        "    </tr>\n",
        "    <tr>\n",
        "      <th>129</th>\n",
        "      <td>  TRENT</td>\n",
        "      <td>  YAHOO/NS_TRENT</td>\n",
        "      <td>                 TRENT LTD.</td>\n",
        "    </tr>\n",
        "    <tr>\n",
        "      <th>130</th>\n",
        "      <td>    TRF</td>\n",
        "      <td>    YAHOO/NS_TRF</td>\n",
        "      <td>                TRF LIMITED</td>\n",
        "    </tr>\n",
        "    <tr>\n",
        "      <th>131</th>\n",
        "      <td>   TRIL</td>\n",
        "      <td>   YAHOO/NS_TRIL</td>\n",
        "      <td>  TRANSFORMERS AND RECTIFIE</td>\n",
        "    </tr>\n",
        "    <tr>\n",
        "      <th>132</th>\n",
        "      <td>    TWL</td>\n",
        "      <td>    YAHOO/NS_TWL</td>\n",
        "      <td>    TITAGARH WAGONS LIMITED</td>\n",
        "    </tr>\n",
        "    <tr>\n",
        "      <th>133</th>\n",
        "      <td>  VIPUL</td>\n",
        "      <td>  YAHOO/NS_VIPUL</td>\n",
        "      <td>             VIPUL LTD INR2</td>\n",
        "    </tr>\n",
        "    <tr>\n",
        "      <th>134</th>\n",
        "      <td>   VSSL</td>\n",
        "      <td>   YAHOO/NS_VSSL</td>\n",
        "      <td>     VARDHMAN SPC STEEL LTD</td>\n",
        "    </tr>\n",
        "    <tr>\n",
        "      <th>135</th>\n",
        "      <td>    WSI</td>\n",
        "      <td>    YAHOO/NS_WSI</td>\n",
        "      <td> WS INDUSTRIES(INDIA) INR10</td>\n",
        "    </tr>\n",
        "  </tbody>\n",
        "</table>\n",
        "<p>136 rows \u00d7 3 columns</p>\n",
        "</div>"
       ],
       "metadata": {},
       "output_type": "pyout",
       "prompt_number": 193,
       "text": [
        "     Ticker      Quandl Code                        Name\n",
        "0      ABAN    YAHOO/NS_ABAN          ABAN OFFSHORE LTD.\n",
        "1       ABB     YAHOO/NS_ABB                 ABB LIMITED\n",
        "2       ACC     YAHOO/NS_ACC                 ACC LIMITED\n",
        "3      ALBK    YAHOO/NS_ALBK              ALLAHABAD BANK\n",
        "4      AQUA    YAHOO/NS_AQUA          AQUA LOGISTICS LTD\n",
        "5      ATFL    YAHOO/NS_ATFL     AGRO TECH FOODS LIMITED\n",
        "6      BANG    YAHOO/NS_BANG       BANG OVERSEAS LIMITED\n",
        "7      BASF    YAHOO/NS_BASF                   BASF LTD.\n",
        "8      BBTC    YAHOO/NS_BBTC       BOMBAY BURMAH TRADING\n",
        "9      BEML    YAHOO/NS_BEML                BEML LIMITED\n",
        "10     BEPL    YAHOO/NS_BEPL   BHANSALI ENG. POLYMERS LT\n",
        "11     BHEL    YAHOO/NS_BHEL     BHARAT HEAVY ELECT LTD.\n",
        "12      BIL     YAHOO/NS_BIL       BHARTIYA INTL LIMITED\n",
        "13     BPCL    YAHOO/NS_BPCL        BHARAT PETROLEUM LTD\n",
        "14      BPL     YAHOO/NS_BPL                    BPL LTD.\n",
        "15     BRFL    YAHOO/NS_BRFL   BOMBAY RAYON FASHIONS LIM\n",
        "16     CCCL    YAHOO/NS_CCCL   CONSOLIDATED CONSTRUCTION\n",
        "17     CESC    YAHOO/NS_CESC                   CESC LTD.\n",
        "18    CIPLA   YAHOO/NS_CIPLA                   CIPLA LTD\n",
        "19      CMC     YAHOO/NS_CMC                    CMC LTD.\n",
        "20   CRISIL  YAHOO/NS_CRISIL              CRISIL LIMITED\n",
        "21      CTE     YAHOO/NS_CTE   CAMBRIDGE TECHNOLOGY ENTE\n",
        "22    DABUR   YAHOO/NS_DABUR            DABUR INDIA LTD.\n",
        "23      DCB     YAHOO/NS_DCB   DEVELOPMENT CREDIT BANK L\n",
        "24      DCM     YAHOO/NS_DCM                    DCM  LTD\n",
        "25      DCW     YAHOO/NS_DCW                     DCW LTD\n",
        "26      DEN     YAHOO/NS_DEN            DEN NETWORKS LTD\n",
        "27     DPTL    YAHOO/NS_DPTL   DHUNSERI PETROC & TEA LTD\n",
        "28      DQE     YAHOO/NS_DQE    DQ ENTERTAINMENT INT LTD\n",
        "29     EMCO    YAHOO/NS_EMCO                EMCO LIMITED\n",
        "..      ...              ...                         ...\n",
        "106    RIIL    YAHOO/NS_RIIL     RELIANCE INDL INFRA LTD\n",
        "107     RML     YAHOO/NS_RML       RANE (MADRAS) LIMITED\n",
        "108    RUPA    YAHOO/NS_RUPA          RUPA & COMPANY LTD\n",
        "109   SABTN   YAHOO/NS_SABTN   SRI ADHIKARI BROTHERS TEL\n",
        "110    SAIL    YAHOO/NS_SAIL    STEEL AUTHORITY OF INDIA\n",
        "111    SBBJ    YAHOO/NS_SBBJ   STATE BANK OF BIKANER AND\n",
        "112    SBIN    YAHOO/NS_SBIN         STATE BANK OF INDIA\n",
        "113     SBT     YAHOO/NS_SBT    STATE BANK OF TRAVANCORE\n",
        "114     SCI     YAHOO/NS_SCI      SHIPPING CORP OF INDIA\n",
        "115    SJVN    YAHOO/NS_SJVN                    SJVN LTD\n",
        "116   SOBHA   YAHOO/NS_SOBHA    SOBHA DEVELOPERS LIMITED\n",
        "117    SOTL    YAHOO/NS_SOTL   SAVITA OIL TECHNOLOGIES L\n",
        "118    SPYL    YAHOO/NS_SPYL   SHEKHAWATI POLY-YARN LTD.\n",
        "119     SRF     YAHOO/NS_SRF                    SRF LTD.\n",
        "120    STEL    YAHOO/NS_STEL    SENTINEL TEA AND EXP LTD\n",
        "121   SUDAR   YAHOO/NS_SUDAR          SUDAR GARMENTS LTD\n",
        "122   SUNTV   YAHOO/NS_SUNTV      SUN TV NETWORK LIMITED\n",
        "123    TAKE    YAHOO/NS_TAKE      TAKE SOLUTIONS LIMITED\n",
        "124     TCS     YAHOO/NS_TCS   TATA CONSULTANCY SERV LTD\n",
        "125   TECHM   YAHOO/NS_TECHM       TECH MAHINDRA LIMITED\n",
        "126      TI      YAHOO/NS_TI   TILAKNAGAR INDUSTRIES LTD\n",
        "127    TIIL    YAHOO/NS_TIIL   TECHNOCRAFT INDUSTRIES (I\n",
        "128     TIL     YAHOO/NS_TIL                     TIL LTD\n",
        "129   TRENT   YAHOO/NS_TRENT                  TRENT LTD.\n",
        "130     TRF     YAHOO/NS_TRF                 TRF LIMITED\n",
        "131    TRIL    YAHOO/NS_TRIL   TRANSFORMERS AND RECTIFIE\n",
        "132     TWL     YAHOO/NS_TWL     TITAGARH WAGONS LIMITED\n",
        "133   VIPUL   YAHOO/NS_VIPUL              VIPUL LTD INR2\n",
        "134    VSSL    YAHOO/NS_VSSL      VARDHMAN SPC STEEL LTD\n",
        "135     WSI     YAHOO/NS_WSI  WS INDUSTRIES(INDIA) INR10\n",
        "\n",
        "[136 rows x 3 columns]"
       ]
      }
     ],
     "prompt_number": 193
    },
    {
     "cell_type": "code",
     "collapsed": false,
     "input": [],
     "language": "python",
     "metadata": {},
     "outputs": []
    }
   ],
   "metadata": {}
  }
 ]
}